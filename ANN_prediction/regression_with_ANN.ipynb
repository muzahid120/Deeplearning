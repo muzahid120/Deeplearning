{
 "cells": [
  {
   "cell_type": "code",
   "execution_count": 2,
   "metadata": {},
   "outputs": [],
   "source": [
    "import pandas as pd "
   ]
  },
  {
   "cell_type": "code",
   "execution_count": 7,
   "metadata": {},
   "outputs": [
    {
     "data": {
      "text/html": [
       "<div>\n",
       "<style scoped>\n",
       "    .dataframe tbody tr th:only-of-type {\n",
       "        vertical-align: middle;\n",
       "    }\n",
       "\n",
       "    .dataframe tbody tr th {\n",
       "        vertical-align: top;\n",
       "    }\n",
       "\n",
       "    .dataframe thead th {\n",
       "        text-align: right;\n",
       "    }\n",
       "</style>\n",
       "<table border=\"1\" class=\"dataframe\">\n",
       "  <thead>\n",
       "    <tr style=\"text-align: right;\">\n",
       "      <th></th>\n",
       "      <th>GRE Score</th>\n",
       "      <th>TOEFL Score</th>\n",
       "      <th>University Rating</th>\n",
       "      <th>SOP</th>\n",
       "      <th>LOR</th>\n",
       "      <th>CGPA</th>\n",
       "      <th>Research</th>\n",
       "      <th>Chance of Admit</th>\n",
       "    </tr>\n",
       "  </thead>\n",
       "  <tbody>\n",
       "    <tr>\n",
       "      <th>0</th>\n",
       "      <td>337</td>\n",
       "      <td>118</td>\n",
       "      <td>4</td>\n",
       "      <td>4.5</td>\n",
       "      <td>4.5</td>\n",
       "      <td>9.65</td>\n",
       "      <td>1</td>\n",
       "      <td>0.92</td>\n",
       "    </tr>\n",
       "    <tr>\n",
       "      <th>1</th>\n",
       "      <td>324</td>\n",
       "      <td>107</td>\n",
       "      <td>4</td>\n",
       "      <td>4.0</td>\n",
       "      <td>4.5</td>\n",
       "      <td>8.87</td>\n",
       "      <td>1</td>\n",
       "      <td>0.76</td>\n",
       "    </tr>\n",
       "    <tr>\n",
       "      <th>2</th>\n",
       "      <td>316</td>\n",
       "      <td>104</td>\n",
       "      <td>3</td>\n",
       "      <td>3.0</td>\n",
       "      <td>3.5</td>\n",
       "      <td>8.00</td>\n",
       "      <td>1</td>\n",
       "      <td>0.72</td>\n",
       "    </tr>\n",
       "    <tr>\n",
       "      <th>3</th>\n",
       "      <td>322</td>\n",
       "      <td>110</td>\n",
       "      <td>3</td>\n",
       "      <td>3.5</td>\n",
       "      <td>2.5</td>\n",
       "      <td>8.67</td>\n",
       "      <td>1</td>\n",
       "      <td>0.80</td>\n",
       "    </tr>\n",
       "    <tr>\n",
       "      <th>4</th>\n",
       "      <td>314</td>\n",
       "      <td>103</td>\n",
       "      <td>2</td>\n",
       "      <td>2.0</td>\n",
       "      <td>3.0</td>\n",
       "      <td>8.21</td>\n",
       "      <td>0</td>\n",
       "      <td>0.65</td>\n",
       "    </tr>\n",
       "    <tr>\n",
       "      <th>...</th>\n",
       "      <td>...</td>\n",
       "      <td>...</td>\n",
       "      <td>...</td>\n",
       "      <td>...</td>\n",
       "      <td>...</td>\n",
       "      <td>...</td>\n",
       "      <td>...</td>\n",
       "      <td>...</td>\n",
       "    </tr>\n",
       "    <tr>\n",
       "      <th>495</th>\n",
       "      <td>332</td>\n",
       "      <td>108</td>\n",
       "      <td>5</td>\n",
       "      <td>4.5</td>\n",
       "      <td>4.0</td>\n",
       "      <td>9.02</td>\n",
       "      <td>1</td>\n",
       "      <td>0.87</td>\n",
       "    </tr>\n",
       "    <tr>\n",
       "      <th>496</th>\n",
       "      <td>337</td>\n",
       "      <td>117</td>\n",
       "      <td>5</td>\n",
       "      <td>5.0</td>\n",
       "      <td>5.0</td>\n",
       "      <td>9.87</td>\n",
       "      <td>1</td>\n",
       "      <td>0.96</td>\n",
       "    </tr>\n",
       "    <tr>\n",
       "      <th>497</th>\n",
       "      <td>330</td>\n",
       "      <td>120</td>\n",
       "      <td>5</td>\n",
       "      <td>4.5</td>\n",
       "      <td>5.0</td>\n",
       "      <td>9.56</td>\n",
       "      <td>1</td>\n",
       "      <td>0.93</td>\n",
       "    </tr>\n",
       "    <tr>\n",
       "      <th>498</th>\n",
       "      <td>312</td>\n",
       "      <td>103</td>\n",
       "      <td>4</td>\n",
       "      <td>4.0</td>\n",
       "      <td>5.0</td>\n",
       "      <td>8.43</td>\n",
       "      <td>0</td>\n",
       "      <td>0.73</td>\n",
       "    </tr>\n",
       "    <tr>\n",
       "      <th>499</th>\n",
       "      <td>327</td>\n",
       "      <td>113</td>\n",
       "      <td>4</td>\n",
       "      <td>4.5</td>\n",
       "      <td>4.5</td>\n",
       "      <td>9.04</td>\n",
       "      <td>0</td>\n",
       "      <td>0.84</td>\n",
       "    </tr>\n",
       "  </tbody>\n",
       "</table>\n",
       "<p>500 rows × 8 columns</p>\n",
       "</div>"
      ],
      "text/plain": [
       "     GRE Score  TOEFL Score  University Rating  SOP  LOR   CGPA  Research  \\\n",
       "0          337          118                  4  4.5   4.5  9.65         1   \n",
       "1          324          107                  4  4.0   4.5  8.87         1   \n",
       "2          316          104                  3  3.0   3.5  8.00         1   \n",
       "3          322          110                  3  3.5   2.5  8.67         1   \n",
       "4          314          103                  2  2.0   3.0  8.21         0   \n",
       "..         ...          ...                ...  ...   ...   ...       ...   \n",
       "495        332          108                  5  4.5   4.0  9.02         1   \n",
       "496        337          117                  5  5.0   5.0  9.87         1   \n",
       "497        330          120                  5  4.5   5.0  9.56         1   \n",
       "498        312          103                  4  4.0   5.0  8.43         0   \n",
       "499        327          113                  4  4.5   4.5  9.04         0   \n",
       "\n",
       "     Chance of Admit   \n",
       "0                0.92  \n",
       "1                0.76  \n",
       "2                0.72  \n",
       "3                0.80  \n",
       "4                0.65  \n",
       "..                ...  \n",
       "495              0.87  \n",
       "496              0.96  \n",
       "497              0.93  \n",
       "498              0.73  \n",
       "499              0.84  \n",
       "\n",
       "[500 rows x 8 columns]"
      ]
     },
     "execution_count": 7,
     "metadata": {},
     "output_type": "execute_result"
    }
   ],
   "source": [
    "df=pd.read_csv(r'C:\\Users\\SDS\\Downloads\\Admission_Predict_Ver1.1.csv')\n",
    "df=df.drop(columns=['Serial No.'])\n",
    "df"
   ]
  },
  {
   "cell_type": "code",
   "execution_count": 27,
   "metadata": {},
   "outputs": [
    {
     "name": "stdout",
     "output_type": "stream",
     "text": [
      "<class 'pandas.core.frame.DataFrame'>\n",
      "RangeIndex: 500 entries, 0 to 499\n",
      "Data columns (total 8 columns):\n",
      " #   Column             Non-Null Count  Dtype  \n",
      "---  ------             --------------  -----  \n",
      " 0   GRE Score          500 non-null    int64  \n",
      " 1   TOEFL Score        500 non-null    int64  \n",
      " 2   University Rating  500 non-null    int64  \n",
      " 3   SOP                500 non-null    float64\n",
      " 4   LOR                500 non-null    float64\n",
      " 5   CGPA               500 non-null    float64\n",
      " 6   Research           500 non-null    int64  \n",
      " 7   Chance of Admit    500 non-null    float64\n",
      "dtypes: float64(4), int64(4)\n",
      "memory usage: 31.4 KB\n"
     ]
    }
   ],
   "source": [
    "df.info()"
   ]
  },
  {
   "cell_type": "code",
   "execution_count": 13,
   "metadata": {},
   "outputs": [
    {
     "data": {
      "text/plain": [
       "0      0.92\n",
       "1      0.76\n",
       "2      0.72\n",
       "3      0.80\n",
       "4      0.65\n",
       "       ... \n",
       "495    0.87\n",
       "496    0.96\n",
       "497    0.93\n",
       "498    0.73\n",
       "499    0.84\n",
       "Name: Chance of Admit , Length: 500, dtype: float64"
      ]
     },
     "execution_count": 13,
     "metadata": {},
     "output_type": "execute_result"
    }
   ],
   "source": [
    "x=df.iloc[:,0:7]\n",
    "y=df.iloc[:,-1]\n",
    "y"
   ]
  },
  {
   "cell_type": "code",
   "execution_count": 15,
   "metadata": {},
   "outputs": [],
   "source": [
    "from sklearn.model_selection import train_test_split\n",
    "x_train,x_test,y_train,y_test=train_test_split(x,y,test_size=0.2,random_state=41)"
   ]
  },
  {
   "cell_type": "code",
   "execution_count": 20,
   "metadata": {},
   "outputs": [],
   "source": [
    "# data scaling \n",
    "from sklearn.preprocessing import MinMaxScaler\n",
    "scaler=MinMaxScaler()\n",
    "x_train_scaled=scaler.fit_transform(x_train)\n",
    "x_test_scaled=scaler.transform(x_test)"
   ]
  },
  {
   "cell_type": "code",
   "execution_count": 22,
   "metadata": {},
   "outputs": [],
   "source": [
    "import tensorflow\n",
    "from tensorflow import keras \n",
    "from keras.models import Sequential\n",
    "from keras.layers import Dense,Dropout\n"
   ]
  },
  {
   "cell_type": "code",
   "execution_count": 72,
   "metadata": {},
   "outputs": [],
   "source": [
    "model= Sequential()\n",
    "model.add(Dense(21,activation='relu',input_dim=7))\n",
    "model.add(Dense(21,activation='relu'))\n",
    "model.add(Dense(21,activation='relu'))\n",
    "model.add(Dense(21,activation='relu'))\n",
    "model.add(Dense(21,activation='relu'))\n",
    "model.add(Dense(7,activation='relu'))\n",
    "model.add(Dense(1,activation='linear'))\n"
   ]
  },
  {
   "cell_type": "code",
   "execution_count": 73,
   "metadata": {},
   "outputs": [
    {
     "name": "stdout",
     "output_type": "stream",
     "text": [
      "Model: \"sequential_6\"\n",
      "_________________________________________________________________\n",
      " Layer (type)                Output Shape              Param #   \n",
      "=================================================================\n",
      " dense_35 (Dense)            (None, 21)                168       \n",
      "                                                                 \n",
      " dense_36 (Dense)            (None, 21)                462       \n",
      "                                                                 \n",
      " dense_37 (Dense)            (None, 21)                462       \n",
      "                                                                 \n",
      " dense_38 (Dense)            (None, 21)                462       \n",
      "                                                                 \n",
      " dense_39 (Dense)            (None, 21)                462       \n",
      "                                                                 \n",
      " dense_40 (Dense)            (None, 7)                 154       \n",
      "                                                                 \n",
      " dense_41 (Dense)            (None, 1)                 8         \n",
      "                                                                 \n",
      "=================================================================\n",
      "Total params: 2178 (8.51 KB)\n",
      "Trainable params: 2178 (8.51 KB)\n",
      "Non-trainable params: 0 (0.00 Byte)\n",
      "_________________________________________________________________\n"
     ]
    }
   ],
   "source": [
    "model.summary()"
   ]
  },
  {
   "cell_type": "code",
   "execution_count": 76,
   "metadata": {},
   "outputs": [
    {
     "name": "stdout",
     "output_type": "stream",
     "text": [
      "Epoch 1/49\n",
      "10/10 [==============================] - 3s 31ms/step - loss: 0.0038 - val_loss: 0.0039\n",
      "Epoch 2/49\n",
      "10/10 [==============================] - 0s 19ms/step - loss: 0.0035 - val_loss: 0.0040\n",
      "Epoch 3/49\n",
      "10/10 [==============================] - 0s 8ms/step - loss: 0.0035 - val_loss: 0.0035\n",
      "Epoch 4/49\n",
      "10/10 [==============================] - 0s 8ms/step - loss: 0.0033 - val_loss: 0.0036\n",
      "Epoch 5/49\n",
      "10/10 [==============================] - 0s 7ms/step - loss: 0.0033 - val_loss: 0.0035\n",
      "Epoch 6/49\n",
      "10/10 [==============================] - 0s 8ms/step - loss: 0.0033 - val_loss: 0.0036\n",
      "Epoch 7/49\n",
      "10/10 [==============================] - 0s 10ms/step - loss: 0.0033 - val_loss: 0.0035\n",
      "Epoch 8/49\n",
      "10/10 [==============================] - 0s 8ms/step - loss: 0.0034 - val_loss: 0.0040\n",
      "Epoch 9/49\n",
      "10/10 [==============================] - 0s 8ms/step - loss: 0.0034 - val_loss: 0.0035\n",
      "Epoch 10/49\n",
      "10/10 [==============================] - 0s 7ms/step - loss: 0.0034 - val_loss: 0.0036\n",
      "Epoch 11/49\n",
      "10/10 [==============================] - 0s 7ms/step - loss: 0.0035 - val_loss: 0.0039\n",
      "Epoch 12/49\n",
      "10/10 [==============================] - 0s 13ms/step - loss: 0.0036 - val_loss: 0.0041\n",
      "Epoch 13/49\n",
      "10/10 [==============================] - 0s 8ms/step - loss: 0.0035 - val_loss: 0.0035\n",
      "Epoch 14/49\n",
      "10/10 [==============================] - 0s 8ms/step - loss: 0.0033 - val_loss: 0.0035\n",
      "Epoch 15/49\n",
      "10/10 [==============================] - 0s 8ms/step - loss: 0.0032 - val_loss: 0.0035\n",
      "Epoch 16/49\n",
      "10/10 [==============================] - 0s 9ms/step - loss: 0.0032 - val_loss: 0.0035\n",
      "Epoch 17/49\n",
      "10/10 [==============================] - 0s 7ms/step - loss: 0.0033 - val_loss: 0.0035\n",
      "Epoch 18/49\n",
      "10/10 [==============================] - 0s 8ms/step - loss: 0.0032 - val_loss: 0.0036\n",
      "Epoch 19/49\n",
      "10/10 [==============================] - 0s 8ms/step - loss: 0.0033 - val_loss: 0.0038\n",
      "Epoch 20/49\n",
      "10/10 [==============================] - 0s 10ms/step - loss: 0.0032 - val_loss: 0.0035\n",
      "Epoch 21/49\n",
      "10/10 [==============================] - 0s 9ms/step - loss: 0.0031 - val_loss: 0.0035\n",
      "Epoch 22/49\n",
      "10/10 [==============================] - 0s 10ms/step - loss: 0.0031 - val_loss: 0.0035\n",
      "Epoch 23/49\n",
      "10/10 [==============================] - 0s 10ms/step - loss: 0.0032 - val_loss: 0.0035\n",
      "Epoch 24/49\n",
      "10/10 [==============================] - 0s 10ms/step - loss: 0.0032 - val_loss: 0.0035\n",
      "Epoch 25/49\n",
      "10/10 [==============================] - 0s 8ms/step - loss: 0.0032 - val_loss: 0.0035\n",
      "Epoch 26/49\n",
      "10/10 [==============================] - 0s 8ms/step - loss: 0.0032 - val_loss: 0.0035\n",
      "Epoch 27/49\n",
      "10/10 [==============================] - 0s 7ms/step - loss: 0.0031 - val_loss: 0.0036\n",
      "Epoch 28/49\n",
      "10/10 [==============================] - 0s 7ms/step - loss: 0.0032 - val_loss: 0.0034\n",
      "Epoch 29/49\n",
      "10/10 [==============================] - 0s 7ms/step - loss: 0.0033 - val_loss: 0.0044\n",
      "Epoch 30/49\n",
      "10/10 [==============================] - 0s 9ms/step - loss: 0.0040 - val_loss: 0.0046\n",
      "Epoch 31/49\n",
      "10/10 [==============================] - 0s 7ms/step - loss: 0.0040 - val_loss: 0.0036\n",
      "Epoch 32/49\n",
      "10/10 [==============================] - 0s 7ms/step - loss: 0.0034 - val_loss: 0.0036\n",
      "Epoch 33/49\n",
      "10/10 [==============================] - 0s 7ms/step - loss: 0.0033 - val_loss: 0.0036\n",
      "Epoch 34/49\n",
      "10/10 [==============================] - 0s 8ms/step - loss: 0.0032 - val_loss: 0.0035\n",
      "Epoch 35/49\n",
      "10/10 [==============================] - 0s 8ms/step - loss: 0.0031 - val_loss: 0.0034\n",
      "Epoch 36/49\n",
      "10/10 [==============================] - 0s 8ms/step - loss: 0.0031 - val_loss: 0.0035\n",
      "Epoch 37/49\n",
      "10/10 [==============================] - 0s 7ms/step - loss: 0.0031 - val_loss: 0.0034\n",
      "Epoch 38/49\n",
      "10/10 [==============================] - 0s 8ms/step - loss: 0.0031 - val_loss: 0.0034\n",
      "Epoch 39/49\n",
      "10/10 [==============================] - 0s 8ms/step - loss: 0.0032 - val_loss: 0.0036\n",
      "Epoch 40/49\n",
      "10/10 [==============================] - 0s 8ms/step - loss: 0.0031 - val_loss: 0.0035\n",
      "Epoch 41/49\n",
      "10/10 [==============================] - 0s 7ms/step - loss: 0.0033 - val_loss: 0.0035\n",
      "Epoch 42/49\n",
      "10/10 [==============================] - 0s 8ms/step - loss: 0.0031 - val_loss: 0.0035\n",
      "Epoch 43/49\n",
      "10/10 [==============================] - 0s 8ms/step - loss: 0.0031 - val_loss: 0.0035\n",
      "Epoch 44/49\n",
      "10/10 [==============================] - 0s 9ms/step - loss: 0.0031 - val_loss: 0.0035\n",
      "Epoch 45/49\n",
      "10/10 [==============================] - 0s 8ms/step - loss: 0.0033 - val_loss: 0.0034\n",
      "Epoch 46/49\n",
      "10/10 [==============================] - 0s 7ms/step - loss: 0.0031 - val_loss: 0.0034\n",
      "Epoch 47/49\n",
      "10/10 [==============================] - 0s 7ms/step - loss: 0.0031 - val_loss: 0.0036\n",
      "Epoch 48/49\n",
      "10/10 [==============================] - 0s 8ms/step - loss: 0.0031 - val_loss: 0.0035\n",
      "Epoch 49/49\n",
      "10/10 [==============================] - 0s 8ms/step - loss: 0.0030 - val_loss: 0.0037\n"
     ]
    }
   ],
   "source": [
    "model.compile(loss='mean_squared_error',optimizer=\"Adam\")\n",
    "history=model.fit(x_train_scaled,y_train,epochs=49,validation_split=0.2,verbose=1)"
   ]
  },
  {
   "cell_type": "code",
   "execution_count": 77,
   "metadata": {},
   "outputs": [
    {
     "name": "stdout",
     "output_type": "stream",
     "text": [
      "4/4 [==============================] - 0s 3ms/step\n"
     ]
    }
   ],
   "source": [
    "y_pred=model.predict(x_test_scaled)"
   ]
  },
  {
   "cell_type": "code",
   "execution_count": 79,
   "metadata": {},
   "outputs": [
    {
     "data": {
      "text/plain": [
       "0.7763604643233503"
      ]
     },
     "execution_count": 79,
     "metadata": {},
     "output_type": "execute_result"
    }
   ],
   "source": [
    "from sklearn.metrics import r2_score\n",
    "r2_score(y_test,y_pred)"
   ]
  }
 ],
 "metadata": {
  "kernelspec": {
   "display_name": "test2",
   "language": "python",
   "name": "python3"
  },
  "language_info": {
   "codemirror_mode": {
    "name": "ipython",
    "version": 3
   },
   "file_extension": ".py",
   "mimetype": "text/x-python",
   "name": "python",
   "nbconvert_exporter": "python",
   "pygments_lexer": "ipython3",
   "version": "3.8.18"
  }
 },
 "nbformat": 4,
 "nbformat_minor": 2
}
