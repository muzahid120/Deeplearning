{
 "cells": [
  {
   "cell_type": "code",
   "execution_count": 2,
   "metadata": {},
   "outputs": [],
   "source": [
    "import tensorflow \n",
    "from tensorflow import keras \n",
    "from keras.layers import Dense,SimpleRNN\n",
    "from keras.models import Sequential"
   ]
  },
  {
   "cell_type": "code",
   "execution_count": 3,
   "metadata": {},
   "outputs": [],
   "source": [
    "model=Sequential()"
   ]
  },
  {
   "cell_type": "code",
   "execution_count": 4,
   "metadata": {},
   "outputs": [],
   "source": [
    "model.add(SimpleRNN(3,input_shape=(4,5)))# input_shape=(4,5)| 4 is time steps 5 is unique vocabulary\n",
    "model.add(Dense(1,activation='sigmoid'))"
   ]
  },
  {
   "cell_type": "code",
   "execution_count": 5,
   "metadata": {},
   "outputs": [
    {
     "name": "stdout",
     "output_type": "stream",
     "text": [
      "Model: \"sequential\"\n",
      "_________________________________________________________________\n",
      " Layer (type)                Output Shape              Param #   \n",
      "=================================================================\n",
      " simple_rnn (SimpleRNN)      (None, 3)                 27        \n",
      "                                                                 \n",
      " dense (Dense)               (None, 1)                 4         \n",
      "                                                                 \n",
      "=================================================================\n",
      "Total params: 31 (124.00 Byte)\n",
      "Trainable params: 31 (124.00 Byte)\n",
      "Non-trainable params: 0 (0.00 Byte)\n",
      "_________________________________________________________________\n"
     ]
    }
   ],
   "source": [
    "model.summary()"
   ]
  },
  {
   "cell_type": "code",
   "execution_count": 13,
   "metadata": {},
   "outputs": [
    {
     "data": {
      "text/plain": [
       "[array([[ 0.7494188 ,  0.51591855,  0.5995757 ],\n",
       "        [ 0.24568647, -0.41892213, -0.04312426],\n",
       "        [ 0.38828224,  0.09050137,  0.3991379 ],\n",
       "        [ 0.65242773, -0.37986255,  0.58405584],\n",
       "        [ 0.15431768, -0.25855923,  0.24521357]], dtype=float32),\n",
       " array([[ 0.85569155, -0.51650786, -0.03180487],\n",
       "        [-0.31809127, -0.5734651 ,  0.7549541 ],\n",
       "        [ 0.4081787 ,  0.635891  ,  0.65500593]], dtype=float32),\n",
       " array([0., 0., 0.], dtype=float32),\n",
       " array([[1.0595738 ],\n",
       "        [0.99534786],\n",
       "        [0.46683574]], dtype=float32),\n",
       " array([0.], dtype=float32)]"
      ]
     },
     "execution_count": 13,
     "metadata": {},
     "output_type": "execute_result"
    }
   ],
   "source": [
    "model.get_weights()\n"
   ]
  },
  {
   "cell_type": "code",
   "execution_count": 14,
   "metadata": {},
   "outputs": [
    {
     "name": "stdout",
     "output_type": "stream",
     "text": [
      "[[ 0.7494188   0.51591855  0.5995757 ]\n",
      " [ 0.24568647 -0.41892213 -0.04312426]\n",
      " [ 0.38828224  0.09050137  0.3991379 ]\n",
      " [ 0.65242773 -0.37986255  0.58405584]\n",
      " [ 0.15431768 -0.25855923  0.24521357]]\n"
     ]
    }
   ],
   "source": [
    "# input shape and NN weights \n",
    "print(model.get_weights()[0])"
   ]
  },
  {
   "cell_type": "code",
   "execution_count": 15,
   "metadata": {},
   "outputs": [
    {
     "name": "stdout",
     "output_type": "stream",
     "text": [
      "[[ 0.85569155 -0.51650786 -0.03180487]\n",
      " [-0.31809127 -0.5734651   0.7549541 ]\n",
      " [ 0.4081787   0.635891    0.65500593]]\n"
     ]
    }
   ],
   "source": [
    "# 2nd stage recurrent NN weights \n",
    "print(model.get_weights()[1])"
   ]
  },
  {
   "cell_type": "code",
   "execution_count": 16,
   "metadata": {},
   "outputs": [
    {
     "name": "stdout",
     "output_type": "stream",
     "text": [
      "[0. 0. 0.]\n"
     ]
    }
   ],
   "source": [
    "# 2nd stage RNN bias\n",
    "print(model.get_weights()[2])"
   ]
  },
  {
   "cell_type": "code",
   "execution_count": 17,
   "metadata": {},
   "outputs": [
    {
     "name": "stdout",
     "output_type": "stream",
     "text": [
      "[[1.0595738 ]\n",
      " [0.99534786]\n",
      " [0.46683574]]\n"
     ]
    }
   ],
   "source": [
    "# 3rd stage output units weights \n",
    "print(model.get_weights()[3])"
   ]
  },
  {
   "cell_type": "code",
   "execution_count": 18,
   "metadata": {},
   "outputs": [
    {
     "name": "stdout",
     "output_type": "stream",
     "text": [
      "[0.]\n"
     ]
    }
   ],
   "source": [
    "# 4th output bias \n",
    "print(model.get_weights()[4])"
   ]
  }
 ],
 "metadata": {
  "kernelspec": {
   "display_name": "test2",
   "language": "python",
   "name": "python3"
  },
  "language_info": {
   "codemirror_mode": {
    "name": "ipython",
    "version": 3
   },
   "file_extension": ".py",
   "mimetype": "text/x-python",
   "name": "python",
   "nbconvert_exporter": "python",
   "pygments_lexer": "ipython3",
   "version": "3.8.18"
  }
 },
 "nbformat": 4,
 "nbformat_minor": 2
}
