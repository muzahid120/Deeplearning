{
 "cells": [
  {
   "cell_type": "code",
   "execution_count": 39,
   "metadata": {},
   "outputs": [],
   "source": [
    "import numpy as np \n",
    "import tensorflow\n",
    "from tensorflow import keras\n",
    "from keras.datasets import imdb\n",
    "from keras.models import Sequential\n",
    "from keras.layers import *\n",
    "from keras.utils import pad_sequences"
   ]
  },
  {
   "cell_type": "code",
   "execution_count": 40,
   "metadata": {},
   "outputs": [],
   "source": [
    "(x_train,y_train),(x_test,y_test)=imdb.load_data()"
   ]
  },
  {
   "cell_type": "code",
   "execution_count": 41,
   "metadata": {},
   "outputs": [
    {
     "data": {
      "text/plain": [
       "(25000,)"
      ]
     },
     "execution_count": 41,
     "metadata": {},
     "output_type": "execute_result"
    }
   ],
   "source": [
    "x_train.shape"
   ]
  },
  {
   "cell_type": "code",
   "execution_count": 42,
   "metadata": {},
   "outputs": [
    {
     "data": {
      "text/plain": [
       "(25000,)"
      ]
     },
     "execution_count": 42,
     "metadata": {},
     "output_type": "execute_result"
    }
   ],
   "source": [
    "x_test.shape"
   ]
  },
  {
   "cell_type": "code",
   "execution_count": 43,
   "metadata": {},
   "outputs": [
    {
     "data": {
      "text/plain": [
       "43"
      ]
     },
     "execution_count": 43,
     "metadata": {},
     "output_type": "execute_result"
    }
   ],
   "source": [
    "len(x_train[5])"
   ]
  },
  {
   "cell_type": "code",
   "execution_count": 44,
   "metadata": {},
   "outputs": [],
   "source": [
    "x_train=pad_sequences(x_train,padding='post',maxlen=100)\n",
    "x_test=pad_sequences(x_test,padding='post',maxlen=100)\n"
   ]
  },
  {
   "cell_type": "code",
   "execution_count": 45,
   "metadata": {},
   "outputs": [
    {
     "data": {
      "text/plain": [
       "100"
      ]
     },
     "execution_count": 45,
     "metadata": {},
     "output_type": "execute_result"
    }
   ],
   "source": [
    "len(x_train[2020])"
   ]
  },
  {
   "cell_type": "code",
   "execution_count": 46,
   "metadata": {},
   "outputs": [
    {
     "data": {
      "text/plain": [
       "100"
      ]
     },
     "execution_count": 46,
     "metadata": {},
     "output_type": "execute_result"
    }
   ],
   "source": [
    "len(x_test[2020])"
   ]
  },
  {
   "cell_type": "code",
   "execution_count": 47,
   "metadata": {},
   "outputs": [],
   "source": [
    "model=Sequential()\n",
    "model.add(SimpleRNN(32,input_shape=(100,1),return_sequences=False))\n",
    "model.add(Dense(1,activation='sigmoid'))"
   ]
  },
  {
   "cell_type": "code",
   "execution_count": 48,
   "metadata": {},
   "outputs": [
    {
     "name": "stdout",
     "output_type": "stream",
     "text": [
      "Epoch 1/10\n",
      "782/782 [==============================] - 25s 29ms/step - loss: 0.6960 - accuracy: 0.5123 - val_loss: 0.6937 - val_accuracy: 0.5103\n",
      "Epoch 2/10\n",
      "782/782 [==============================] - 22s 29ms/step - loss: 0.6930 - accuracy: 0.5087 - val_loss: 0.6935 - val_accuracy: 0.5110\n",
      "Epoch 3/10\n",
      "782/782 [==============================] - 22s 28ms/step - loss: 0.6931 - accuracy: 0.5097 - val_loss: 0.6931 - val_accuracy: 0.5036\n",
      "Epoch 4/10\n",
      "782/782 [==============================] - 22s 28ms/step - loss: 0.6928 - accuracy: 0.5102 - val_loss: 0.6926 - val_accuracy: 0.5136\n",
      "Epoch 5/10\n",
      "782/782 [==============================] - 22s 28ms/step - loss: 0.6925 - accuracy: 0.5134 - val_loss: 0.6927 - val_accuracy: 0.5047\n",
      "Epoch 6/10\n",
      "782/782 [==============================] - 22s 28ms/step - loss: 0.6930 - accuracy: 0.5085 - val_loss: 0.6928 - val_accuracy: 0.5050\n",
      "Epoch 7/10\n",
      "782/782 [==============================] - 22s 28ms/step - loss: 0.6927 - accuracy: 0.5138 - val_loss: 0.6935 - val_accuracy: 0.5100\n",
      "Epoch 8/10\n",
      "782/782 [==============================] - 22s 28ms/step - loss: 0.6930 - accuracy: 0.5104 - val_loss: 0.6923 - val_accuracy: 0.5120\n",
      "Epoch 9/10\n",
      "782/782 [==============================] - 22s 28ms/step - loss: 0.6923 - accuracy: 0.5154 - val_loss: 0.6925 - val_accuracy: 0.5054\n",
      "Epoch 10/10\n",
      "782/782 [==============================] - 22s 29ms/step - loss: 0.6924 - accuracy: 0.5126 - val_loss: 0.6945 - val_accuracy: 0.5054\n"
     ]
    }
   ],
   "source": [
    "model.compile(loss='binary_crossentropy',metrics=['accuracy'],optimizer='adam')\n",
    "history=model.fit(x_train,y_train ,epochs=10,validation_data=(x_test,y_test))"
   ]
  },
  {
   "cell_type": "markdown",
   "metadata": {},
   "source": [
    "# my model stuck on same accuracy.there are no improvement "
   ]
  }
 ],
 "metadata": {
  "kernelspec": {
   "display_name": "test2",
   "language": "python",
   "name": "python3"
  },
  "language_info": {
   "codemirror_mode": {
    "name": "ipython",
    "version": 3
   },
   "file_extension": ".py",
   "mimetype": "text/x-python",
   "name": "python",
   "nbconvert_exporter": "python",
   "pygments_lexer": "ipython3",
   "version": "3.8.18"
  }
 },
 "nbformat": 4,
 "nbformat_minor": 2
}
