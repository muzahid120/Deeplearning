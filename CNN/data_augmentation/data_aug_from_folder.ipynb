{
  "cells": [
    {
      "cell_type": "markdown",
      "metadata": {
        "id": "view-in-github",
        "colab_type": "text"
      },
      "source": [
        "<a href=\"https://colab.research.google.com/github/muzahid120/Deeplearning/blob/Python-project/CNN/data_augmentation/data_aug_from_folder.ipynb\" target=\"_parent\"><img src=\"https://colab.research.google.com/assets/colab-badge.svg\" alt=\"Open In Colab\"/></a>"
      ]
    },
    {
      "cell_type": "code",
      "execution_count": 1,
      "metadata": {
        "id": "qBsJvWOsfIWO"
      },
      "outputs": [],
      "source": [
        "import tensorflow\n",
        "from tensorflow import keras\n",
        "from keras.layers import Dense,Dropout,MaxPooling2D,Conv2D,Flatten\n",
        "from keras.preprocessing import image\n",
        "from keras.preprocessing.image import ImageDataGenerator\n",
        "from keras.models import Sequential"
      ]
    },
    {
      "cell_type": "code",
      "source": [
        "import os\n",
        "import shutil\n",
        "\n",
        "# Define paths\n",
        "kaggle_dir = os.path.expanduser('~/.kaggle')\n",
        "kaggle_json_src = 'kaggle.json'\n",
        "kaggle_json_dest = os.path.join(kaggle_dir, 'kaggle.json')\n",
        "\n",
        "# Create the .kaggle directory if it doesn't exist\n",
        "if not os.path.exists(kaggle_dir):\n",
        "    os.makedirs(kaggle_dir)\n",
        "\n",
        "# Move the kaggle.json file to the .kaggle directory\n",
        "shutil.move(kaggle_json_src, kaggle_json_dest)\n",
        "\n",
        "# Set permissions for kaggle.json file\n",
        "os.chmod(kaggle_json_dest, 0o600)"
      ],
      "metadata": {
        "id": "4MzViAuSgOMQ"
      },
      "execution_count": 2,
      "outputs": []
    },
    {
      "cell_type": "code",
      "source": [
        "# Specify the directory path\n",
        "directory_path = os.path.expanduser('~/.kaggle')\n",
        "\n",
        "# Create the directory if it doesn't exist\n",
        "os.makedirs(directory_path, exist_ok=True)\n"
      ],
      "metadata": {
        "id": "oiknaAd5gZJL"
      },
      "execution_count": 3,
      "outputs": []
    },
    {
      "cell_type": "code",
      "source": [
        "! kaggle datasets download -d salader/dogs-vs-cats"
      ],
      "metadata": {
        "id": "x2Z83DKDgdyf",
        "outputId": "d440dbd3-8fc2-46db-f1e6-c037932f046a",
        "colab": {
          "base_uri": "https://localhost:8080/"
        }
      },
      "execution_count": 4,
      "outputs": [
        {
          "output_type": "stream",
          "name": "stdout",
          "text": [
            "Downloading dogs-vs-cats.zip to /content\n",
            " 99% 1.06G/1.06G [00:11<00:00, 144MB/s]\n",
            "100% 1.06G/1.06G [00:11<00:00, 96.5MB/s]\n"
          ]
        }
      ]
    },
    {
      "cell_type": "code",
      "source": [
        "import zipfile\n",
        "def unzip_file(zip_file_path, extract_to_path):\n",
        "    with zipfile.ZipFile(zip_file_path, 'r') as zip_ref:\n",
        "        zip_ref.extractall(extract_to_path)\n",
        "        zip_ref.close()\n"
      ],
      "metadata": {
        "id": "XQ7Orif-gi-h"
      },
      "execution_count": 9,
      "outputs": []
    },
    {
      "cell_type": "code",
      "source": [
        "zip_file_path = '/content/dogs-vs-cats.zip'\n",
        "extract_to_path = '/content'\n",
        "\n",
        "unzip_file(zip_file_path, extract_to_path)"
      ],
      "metadata": {
        "id": "yUxzva-5hAnP"
      },
      "execution_count": 10,
      "outputs": []
    },
    {
      "cell_type": "code",
      "source": [
        "# data generatore from folder\n",
        "\n",
        "batch_size=16\n",
        "# test_data_genoratore\n",
        "train_gen=ImageDataGenerator(\n",
        "    rescale=1./256,\n",
        "    shear_range=0.2,\n",
        "    zoom_range=0.2,\n",
        "    horizontal_flip=True\n",
        "\n",
        ")\n",
        "\n",
        "#test_data_generatore\n",
        "\n",
        "test_gen=ImageDataGenerator(\n",
        "    rescale=1./256\n",
        ")\n",
        "\n",
        "\n",
        "# train data generatore from directory\n",
        "train_gen_data=train_gen.flow_from_directory('/content/train',\n",
        "                              target_size=(256,256),\n",
        "                              batch_size=batch_size,\n",
        "                              class_mode='binary')\n",
        "# test data genoratore from directory\n",
        "\n",
        "test_gen_data=test_gen.flow_from_directory('/content/test',\n",
        "                                           target_size=(256,256),\n",
        "                                           batch_size=batch_size,\n",
        "                                           class_mode='binary'\n",
        "\n",
        ")"
      ],
      "metadata": {
        "id": "GcrVVvPmhAo1",
        "outputId": "b876738a-e20e-4903-9835-b0af746a906b",
        "colab": {
          "base_uri": "https://localhost:8080/"
        }
      },
      "execution_count": 11,
      "outputs": [
        {
          "output_type": "stream",
          "name": "stdout",
          "text": [
            "Found 20000 images belonging to 2 classes.\n",
            "Found 5000 images belonging to 2 classes.\n"
          ]
        }
      ]
    },
    {
      "cell_type": "code",
      "source": [
        "model=Sequential()\n",
        "model.add(Conv2D(32,kernel_size=(3,3),padding='valid',input_shape=(256,256,3),activation='relu'))\n",
        "model.add(MaxPooling2D(pool_size=(2,2),padding='valid',strides=2))\n",
        "\n",
        "\n",
        "model.add(Conv2D(32,kernel_size=(3,3),padding='valid',activation='relu'))\n",
        "model.add(MaxPooling2D(pool_size=(2,2),padding='valid',strides=2))\n",
        "\n",
        "model.add(Conv2D(32,kernel_size=(3,3),padding='valid',activation='relu'))\n",
        "model.add(MaxPooling2D(pool_size=(2,2),padding='valid',strides=2))\n",
        "\n",
        "\n",
        "\n",
        "model.add(Flatten())\n",
        "\n",
        "\n",
        "\n",
        "\n",
        "model.add(Dense(16,activation='relu'))\n",
        "model.add(Dropout(0.5))\n",
        "\n",
        "model.add(Dense(8,activation='relu'))\n",
        "model.add(Dropout(0.5))\n",
        "\n",
        "model.add(Dense(1,activation='sigmoid'))\n"
      ],
      "metadata": {
        "id": "P4DV84toj7cP"
      },
      "execution_count": 16,
      "outputs": []
    },
    {
      "cell_type": "code",
      "source": [
        "model.summary()"
      ],
      "metadata": {
        "id": "MokMvBJbn_5r",
        "outputId": "b0e5dbde-3ac0-4d8e-f1b6-73e4fdc8da3b",
        "colab": {
          "base_uri": "https://localhost:8080/"
        }
      },
      "execution_count": 17,
      "outputs": [
        {
          "output_type": "stream",
          "name": "stdout",
          "text": [
            "Model: \"sequential_2\"\n",
            "_________________________________________________________________\n",
            " Layer (type)                Output Shape              Param #   \n",
            "=================================================================\n",
            " conv2d_6 (Conv2D)           (None, 254, 254, 32)      896       \n",
            "                                                                 \n",
            " max_pooling2d_6 (MaxPoolin  (None, 127, 127, 32)      0         \n",
            " g2D)                                                            \n",
            "                                                                 \n",
            " conv2d_7 (Conv2D)           (None, 125, 125, 32)      9248      \n",
            "                                                                 \n",
            " max_pooling2d_7 (MaxPoolin  (None, 62, 62, 32)        0         \n",
            " g2D)                                                            \n",
            "                                                                 \n",
            " conv2d_8 (Conv2D)           (None, 60, 60, 32)        9248      \n",
            "                                                                 \n",
            " max_pooling2d_8 (MaxPoolin  (None, 30, 30, 32)        0         \n",
            " g2D)                                                            \n",
            "                                                                 \n",
            " flatten_2 (Flatten)         (None, 28800)             0         \n",
            "                                                                 \n",
            " dense_6 (Dense)             (None, 16)                460816    \n",
            "                                                                 \n",
            " dropout_4 (Dropout)         (None, 16)                0         \n",
            "                                                                 \n",
            " dense_7 (Dense)             (None, 8)                 136       \n",
            "                                                                 \n",
            " dropout_5 (Dropout)         (None, 8)                 0         \n",
            "                                                                 \n",
            " dense_8 (Dense)             (None, 1)                 9         \n",
            "                                                                 \n",
            "=================================================================\n",
            "Total params: 480353 (1.83 MB)\n",
            "Trainable params: 480353 (1.83 MB)\n",
            "Non-trainable params: 0 (0.00 Byte)\n",
            "_________________________________________________________________\n"
          ]
        }
      ]
    },
    {
      "cell_type": "code",
      "source": [
        "model.compile(loss='binary_crossentropy',optimizer='adam',metrics=['accuracy'])\n",
        "\n",
        "history=model.fit_generator(train_gen_data,\n",
        "                    steps_per_epoch=20000//batch_size,\n",
        "                    epochs=5,\n",
        "                    validation_data=test_gen_data,\n",
        "                    validation_steps=5000//batch_size,\n",
        "                    verbose=1)"
      ],
      "metadata": {
        "id": "W-_xNpxT3AKb",
        "outputId": "5c82cb36-c6e9-4898-b408-65b3235217a6",
        "colab": {
          "base_uri": "https://localhost:8080/"
        }
      },
      "execution_count": 18,
      "outputs": [
        {
          "output_type": "stream",
          "name": "stderr",
          "text": [
            "<ipython-input-18-e6da7c3e250d>:3: UserWarning: `Model.fit_generator` is deprecated and will be removed in a future version. Please use `Model.fit`, which supports generators.\n",
            "  history=model.fit_generator(train_gen_data,\n"
          ]
        },
        {
          "output_type": "stream",
          "name": "stdout",
          "text": [
            "Epoch 1/5\n",
            "1250/1250 [==============================] - 339s 268ms/step - loss: 0.6933 - accuracy: 0.5007 - val_loss: 0.6932 - val_accuracy: 0.5000\n",
            "Epoch 2/5\n",
            "1250/1250 [==============================] - 320s 256ms/step - loss: 0.6932 - accuracy: 0.5016 - val_loss: 0.6932 - val_accuracy: 0.5002\n",
            "Epoch 3/5\n",
            "1250/1250 [==============================] - 315s 252ms/step - loss: 0.6932 - accuracy: 0.4972 - val_loss: 0.6932 - val_accuracy: 0.5000\n",
            "Epoch 4/5\n",
            "1250/1250 [==============================] - 320s 256ms/step - loss: 0.6934 - accuracy: 0.4997 - val_loss: 0.6932 - val_accuracy: 0.4996\n",
            "Epoch 5/5\n",
            "1250/1250 [==============================] - 319s 256ms/step - loss: 0.6932 - accuracy: 0.4979 - val_loss: 0.6932 - val_accuracy: 0.4998\n"
          ]
        }
      ]
    }
  ],
  "metadata": {
    "language_info": {
      "name": "python"
    },
    "colab": {
      "provenance": [],
      "gpuType": "T4",
      "include_colab_link": true
    },
    "kernelspec": {
      "name": "python3",
      "display_name": "Python 3"
    },
    "accelerator": "GPU"
  },
  "nbformat": 4,
  "nbformat_minor": 0
}