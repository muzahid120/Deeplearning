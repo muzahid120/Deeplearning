{
  "cells": [
    {
      "cell_type": "code",
      "execution_count": 1,
      "metadata": {
        "id": "Uc0hc05trP_K"
      },
      "outputs": [],
      "source": [
        "import numpy as np"
      ]
    },
    {
      "cell_type": "code",
      "execution_count": 3,
      "metadata": {
        "id": "k8RcsJJGrP_M"
      },
      "outputs": [],
      "source": [
        "import os\n",
        "import shutil\n",
        "\n",
        "# Define paths\n",
        "kaggle_dir = os.path.expanduser('~/.kaggle')\n",
        "kaggle_json_src = 'kaggle.json'\n",
        "kaggle_json_dest = os.path.join(kaggle_dir, 'kaggle.json')\n",
        "\n",
        "# Create the .kaggle directory if it doesn't exist\n",
        "if not os.path.exists(kaggle_dir):\n",
        "    os.makedirs(kaggle_dir)\n",
        "\n",
        "# Move the kaggle.json file to the .kaggle directory\n",
        "shutil.move(kaggle_json_src, kaggle_json_dest)\n",
        "\n",
        "# Set permissions for kaggle.json file\n",
        "os.chmod(kaggle_json_dest, 0o600)\n"
      ]
    },
    {
      "cell_type": "code",
      "execution_count": 4,
      "metadata": {
        "id": "Q7LDwKTXrP_N"
      },
      "outputs": [],
      "source": [
        "import os\n",
        "\n",
        "# Specify the directory path\n",
        "directory_path = os.path.expanduser('~/.kaggle')\n",
        "\n",
        "# Create the directory if it doesn't exist\n",
        "os.makedirs(directory_path, exist_ok=True)\n"
      ]
    },
    {
      "cell_type": "code",
      "execution_count": 5,
      "metadata": {
        "id": "14C8FWMwrP_O",
        "outputId": "4d476663-8cbf-467d-fa3d-0ea1c82fcb8e",
        "colab": {
          "base_uri": "https://localhost:8080/"
        }
      },
      "outputs": [
        {
          "output_type": "stream",
          "name": "stdout",
          "text": [
            "Downloading dogs-vs-cats.zip to /content\n",
            " 99% 1.05G/1.06G [00:09<00:00, 99.3MB/s]\n",
            "100% 1.06G/1.06G [00:09<00:00, 123MB/s] \n"
          ]
        }
      ],
      "source": [
        "! kaggle datasets download -d salader/dogs-vs-cats"
      ]
    },
    {
      "cell_type": "code",
      "execution_count": 6,
      "metadata": {
        "id": "UXU6zetErP_Q"
      },
      "outputs": [],
      "source": [
        "import zipfile\n",
        "import os\n",
        "\n",
        "def unzip_file(zip_file_path, extract_to_path):\n",
        "    with zipfile.ZipFile(zip_file_path, 'r') as zip_ref:\n",
        "        zip_ref.extractall(extract_to_path)\n",
        "\n",
        "# Example usage\n",
        "zip_file_path = '/content/dogs-vs-cats.zip'\n",
        "extract_to_path = '/content'\n",
        "\n",
        "unzip_file(zip_file_path, extract_to_path)\n",
        "\n"
      ]
    },
    {
      "cell_type": "code",
      "source": [
        "import tensorflow as tf\n",
        "from tensorflow import keras\n",
        "from keras.models import Sequential\n",
        "from keras.layers import Dense,Conv2D,Dropout,MaxPooling2D,AveragePooling2D,Flatten"
      ],
      "metadata": {
        "id": "GIGAJW5qs0lr"
      },
      "execution_count": 7,
      "outputs": []
    },
    {
      "cell_type": "code",
      "source": [
        "# generatore\n",
        "train_ds= keras.utils.image_dataset_from_directory(directory='/content/train',\n",
        "                                              labels='inferred',\n",
        "                                              label_mode='int',\n",
        "                                              class_names=None,\n",
        "                                              color_mode='rgb',\n",
        "                                              batch_size=32,\n",
        "                                              image_size=(256, 256),\n",
        "                                              shuffle=True,\n",
        "                                              seed=None,\n",
        "                                              validation_split=None,\n",
        "                                              subset=None,\n",
        "                                              interpolation='bilinear',\n",
        "                                              follow_links=False,\n",
        "                                              crop_to_aspect_ratio=False,)\n",
        "validation_ds=keras.utils.image_dataset_from_directory(directory='/content/test',\n",
        "                                              labels='inferred',\n",
        "                                              label_mode='int',\n",
        "                                              class_names=None,\n",
        "                                              color_mode='rgb',\n",
        "                                              batch_size=32,\n",
        "                                              image_size=(256, 256),\n",
        "                                              shuffle=True,\n",
        "                                              seed=None,\n",
        "                                              validation_split=None,\n",
        "                                              subset=None,\n",
        "                                              interpolation='bilinear',\n",
        "                                              follow_links=False,\n",
        "                                              crop_to_aspect_ratio=False,)"
      ],
      "metadata": {
        "id": "LAcKqD69tkEH",
        "outputId": "d6981490-3e83-4b81-af9d-537d02087f41",
        "colab": {
          "base_uri": "https://localhost:8080/"
        }
      },
      "execution_count": 8,
      "outputs": [
        {
          "output_type": "stream",
          "name": "stdout",
          "text": [
            "Found 20000 files belonging to 2 classes.\n",
            "Found 5000 files belonging to 2 classes.\n"
          ]
        }
      ]
    },
    {
      "cell_type": "code",
      "source": [
        "model=Sequential()\n",
        "model.add(Conv2D(32,kernel_size=(3,3),activation='relu',input_shape=(256,256,3),padding='valid'))\n",
        "model.add(MaxPooling2D(pool_size=(2,2),padding='valid',strides=2))\n",
        "model.add(Conv2D(32,kernel_size=(3,3),activation='relu',padding='valid'))\n",
        "model.add(MaxPooling2D(pool_size=(2,2),padding='valid',strides=2))\n",
        "model.add(Conv2D(32,kernel_size=(3,3),activation='relu',padding='valid'))\n",
        "model.add(MaxPooling2D(pool_size=(2,2),padding='valid',strides=2))\n",
        "model.add(Conv2D(32,kernel_size=(3,3),activation='relu',padding='valid'))\n",
        "model.add(MaxPooling2D(pool_size=(2,2),padding='valid',strides=2))\n",
        "\n",
        "model.add(Flatten())\n",
        "\n",
        "model.add(Dense(128,activation='relu'))\n",
        "model.add(Dense(64,activation='relu'))\n",
        "model.add(Dense(1,activation='sigmoid'))"
      ],
      "metadata": {
        "id": "5_Rtd3hqu6Fc"
      },
      "execution_count": 9,
      "outputs": []
    },
    {
      "cell_type": "code",
      "source": [
        "model.summary()"
      ],
      "metadata": {
        "id": "iz7sUPkZwzU3",
        "outputId": "dbadb5e5-5927-4044-d5cf-30a4131b668b",
        "colab": {
          "base_uri": "https://localhost:8080/"
        }
      },
      "execution_count": 10,
      "outputs": [
        {
          "output_type": "stream",
          "name": "stdout",
          "text": [
            "Model: \"sequential\"\n",
            "_________________________________________________________________\n",
            " Layer (type)                Output Shape              Param #   \n",
            "=================================================================\n",
            " conv2d (Conv2D)             (None, 254, 254, 32)      896       \n",
            "                                                                 \n",
            " max_pooling2d (MaxPooling2  (None, 127, 127, 32)      0         \n",
            " D)                                                              \n",
            "                                                                 \n",
            " conv2d_1 (Conv2D)           (None, 125, 125, 32)      9248      \n",
            "                                                                 \n",
            " max_pooling2d_1 (MaxPoolin  (None, 62, 62, 32)        0         \n",
            " g2D)                                                            \n",
            "                                                                 \n",
            " conv2d_2 (Conv2D)           (None, 60, 60, 32)        9248      \n",
            "                                                                 \n",
            " max_pooling2d_2 (MaxPoolin  (None, 30, 30, 32)        0         \n",
            " g2D)                                                            \n",
            "                                                                 \n",
            " conv2d_3 (Conv2D)           (None, 28, 28, 32)        9248      \n",
            "                                                                 \n",
            " max_pooling2d_3 (MaxPoolin  (None, 14, 14, 32)        0         \n",
            " g2D)                                                            \n",
            "                                                                 \n",
            " flatten (Flatten)           (None, 6272)              0         \n",
            "                                                                 \n",
            " dense (Dense)               (None, 128)               802944    \n",
            "                                                                 \n",
            " dense_1 (Dense)             (None, 64)                8256      \n",
            "                                                                 \n",
            " dense_2 (Dense)             (None, 1)                 65        \n",
            "                                                                 \n",
            "=================================================================\n",
            "Total params: 839905 (3.20 MB)\n",
            "Trainable params: 839905 (3.20 MB)\n",
            "Non-trainable params: 0 (0.00 Byte)\n",
            "_________________________________________________________________\n"
          ]
        }
      ]
    },
    {
      "cell_type": "code",
      "source": [
        "model.compile(optimizer='adam',loss='binary_crossentropy',metrics=['accuracy'])\n",
        "history=model.fit(train_ds,epochs=10,validation_data=validation_ds)"
      ],
      "metadata": {
        "id": "TXmCyqLyw5Pw",
        "outputId": "9a024442-a155-4c1a-b2e0-24af53e655ac",
        "colab": {
          "base_uri": "https://localhost:8080/"
        }
      },
      "execution_count": 11,
      "outputs": [
        {
          "output_type": "stream",
          "name": "stdout",
          "text": [
            "Epoch 1/10\n",
            "625/625 [==============================] - 53s 73ms/step - loss: 0.7260 - accuracy: 0.6453 - val_loss: 0.6127 - val_accuracy: 0.6516\n",
            "Epoch 2/10\n",
            "625/625 [==============================] - 44s 70ms/step - loss: 0.5503 - accuracy: 0.7178 - val_loss: 0.5465 - val_accuracy: 0.7294\n",
            "Epoch 3/10\n",
            "625/625 [==============================] - 45s 72ms/step - loss: 0.4869 - accuracy: 0.7637 - val_loss: 0.4566 - val_accuracy: 0.7912\n",
            "Epoch 4/10\n",
            "625/625 [==============================] - 47s 75ms/step - loss: 0.4271 - accuracy: 0.8012 - val_loss: 0.5326 - val_accuracy: 0.7522\n",
            "Epoch 5/10\n",
            "625/625 [==============================] - 46s 72ms/step - loss: 0.3686 - accuracy: 0.8319 - val_loss: 0.4672 - val_accuracy: 0.7992\n",
            "Epoch 6/10\n",
            "625/625 [==============================] - 46s 72ms/step - loss: 0.3163 - accuracy: 0.8614 - val_loss: 0.5366 - val_accuracy: 0.7758\n",
            "Epoch 7/10\n",
            "625/625 [==============================] - 50s 80ms/step - loss: 0.2578 - accuracy: 0.8886 - val_loss: 0.5571 - val_accuracy: 0.7978\n",
            "Epoch 8/10\n",
            "625/625 [==============================] - 52s 82ms/step - loss: 0.2122 - accuracy: 0.9121 - val_loss: 0.8540 - val_accuracy: 0.7754\n",
            "Epoch 9/10\n",
            "625/625 [==============================] - 47s 74ms/step - loss: 0.1892 - accuracy: 0.9233 - val_loss: 0.7326 - val_accuracy: 0.7732\n",
            "Epoch 10/10\n",
            "625/625 [==============================] - 46s 72ms/step - loss: 0.1650 - accuracy: 0.9349 - val_loss: 0.8916 - val_accuracy: 0.7808\n"
          ]
        }
      ]
    },
    {
      "cell_type": "code",
      "source": [],
      "metadata": {
        "id": "E9bYthh_1Qru",
        "outputId": "00d48221-f7ac-4756-f034-1aeacf6c2065",
        "colab": {
          "base_uri": "https://localhost:8080/"
        }
      },
      "execution_count": 12,
      "outputs": [
        {
          "output_type": "stream",
          "name": "stdout",
          "text": [
            "fatal: not a git repository (or any of the parent directories): .git\n"
          ]
        }
      ]
    },
    {
      "cell_type": "code",
      "source": [],
      "metadata": {
        "id": "rrmNQ3j91Qte"
      },
      "execution_count": null,
      "outputs": []
    }
  ],
  "metadata": {
    "kernelspec": {
      "display_name": "Python 3",
      "name": "python3"
    },
    "language_info": {
      "codemirror_mode": {
        "name": "ipython",
        "version": 3
      },
      "file_extension": ".py",
      "mimetype": "text/x-python",
      "name": "python",
      "nbconvert_exporter": "python",
      "pygments_lexer": "ipython3",
      "version": "3.8.18"
    },
    "colab": {
      "provenance": [],
      "gpuType": "T4"
    },
    "accelerator": "GPU"
  },
  "nbformat": 4,
  "nbformat_minor": 0
}