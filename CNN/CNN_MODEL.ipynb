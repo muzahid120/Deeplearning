{
  "cells": [
    {
      "cell_type": "markdown",
      "metadata": {
        "id": "view-in-github",
        "colab_type": "text"
      },
      "source": [
        "<a href=\"https://colab.research.google.com/github/muzahid120/Deeplearning/blob/Python-project/CNN/CNN_MODEL.ipynb\" target=\"_parent\"><img src=\"https://colab.research.google.com/assets/colab-badge.svg\" alt=\"Open In Colab\"/></a>"
      ]
    },
    {
      "cell_type": "code",
      "execution_count": 2,
      "metadata": {
        "id": "Uc0hc05trP_K"
      },
      "outputs": [],
      "source": [
        "import numpy as np"
      ]
    },
    {
      "cell_type": "code",
      "execution_count": 3,
      "metadata": {
        "id": "k8RcsJJGrP_M"
      },
      "outputs": [],
      "source": [
        "import os\n",
        "import shutil\n",
        "\n",
        "# Define paths\n",
        "kaggle_dir = os.path.expanduser('~/.kaggle')\n",
        "kaggle_json_src = 'kaggle.json'\n",
        "kaggle_json_dest = os.path.join(kaggle_dir, 'kaggle.json')\n",
        "\n",
        "# Create the .kaggle directory if it doesn't exist\n",
        "if not os.path.exists(kaggle_dir):\n",
        "    os.makedirs(kaggle_dir)\n",
        "\n",
        "# Move the kaggle.json file to the .kaggle directory\n",
        "shutil.move(kaggle_json_src, kaggle_json_dest)\n",
        "\n",
        "# Set permissions for kaggle.json file\n",
        "os.chmod(kaggle_json_dest, 0o600)\n"
      ]
    },
    {
      "cell_type": "code",
      "execution_count": 4,
      "metadata": {
        "id": "Q7LDwKTXrP_N"
      },
      "outputs": [],
      "source": [
        "import os\n",
        "\n",
        "# Specify the directory path\n",
        "directory_path = os.path.expanduser('~/.kaggle')\n",
        "\n",
        "# Create the directory if it doesn't exist\n",
        "os.makedirs(directory_path, exist_ok=True)\n"
      ]
    },
    {
      "cell_type": "code",
      "execution_count": 5,
      "metadata": {
        "colab": {
          "base_uri": "https://localhost:8080/"
        },
        "id": "14C8FWMwrP_O",
        "outputId": "bec34602-74ec-4057-e506-2ebdcdb29954"
      },
      "outputs": [
        {
          "output_type": "stream",
          "name": "stdout",
          "text": [
            "Downloading dogs-vs-cats.zip to /content\n",
            "100% 1.06G/1.06G [00:50<00:00, 23.4MB/s]\n",
            "100% 1.06G/1.06G [00:50<00:00, 22.4MB/s]\n"
          ]
        }
      ],
      "source": [
        "! kaggle datasets download -d salader/dogs-vs-cats"
      ]
    },
    {
      "cell_type": "code",
      "execution_count": 6,
      "metadata": {
        "id": "UXU6zetErP_Q"
      },
      "outputs": [],
      "source": [
        "import zipfile\n",
        "import os\n",
        "\n",
        "def unzip_file(zip_file_path, extract_to_path):\n",
        "    with zipfile.ZipFile(zip_file_path, 'r') as zip_ref:\n",
        "        zip_ref.extractall(extract_to_path)\n",
        "\n",
        "# Example usage\n",
        "zip_file_path = '/content/dogs-vs-cats.zip'\n",
        "extract_to_path = '/content'\n",
        "\n",
        "unzip_file(zip_file_path, extract_to_path)\n",
        "\n"
      ]
    },
    {
      "cell_type": "code",
      "source": [
        "import tensorflow as tf\n",
        "from tensorflow import keras\n",
        "from keras.models import Sequential\n",
        "from keras.layers import Dense,Conv2D,Dropout,MaxPooling2D,AveragePooling2D,Flatten"
      ],
      "metadata": {
        "id": "GIGAJW5qs0lr"
      },
      "execution_count": 7,
      "outputs": []
    },
    {
      "cell_type": "code",
      "source": [
        "# generatore\n",
        "train_ds= keras.utils.image_dataset_from_directory(directory='/content/train',\n",
        "                                              labels='inferred',\n",
        "                                              label_mode='int',\n",
        "                                              class_names=None,\n",
        "                                              color_mode='rgb',\n",
        "                                              batch_size=32,\n",
        "                                              image_size=(256, 256),\n",
        "                                              shuffle=True,\n",
        "                                              seed=None,\n",
        "                                              validation_split=None,\n",
        "                                              subset=None,\n",
        "                                              interpolation='bilinear',\n",
        "                                              follow_links=False,\n",
        "                                              crop_to_aspect_ratio=False,)\n",
        "validation_ds=keras.utils.image_dataset_from_directory(directory='/content/test',\n",
        "                                              labels='inferred',\n",
        "                                              label_mode='int',\n",
        "                                              class_names=None,\n",
        "                                              color_mode='rgb',\n",
        "                                              batch_size=32,\n",
        "                                              image_size=(256, 256),\n",
        "                                              shuffle=True,\n",
        "                                              seed=None,\n",
        "                                              validation_split=None,\n",
        "                                              subset=None,\n",
        "                                              interpolation='bilinear',\n",
        "                                              follow_links=False,\n",
        "                                              crop_to_aspect_ratio=False,)"
      ],
      "metadata": {
        "colab": {
          "base_uri": "https://localhost:8080/"
        },
        "id": "LAcKqD69tkEH",
        "outputId": "dcd67bce-5c3d-4d2a-8fb1-9bad51887d24"
      },
      "execution_count": 8,
      "outputs": [
        {
          "output_type": "stream",
          "name": "stdout",
          "text": [
            "Found 20000 files belonging to 2 classes.\n",
            "Found 5000 files belonging to 2 classes.\n"
          ]
        }
      ]
    },
    {
      "cell_type": "code",
      "source": [
        "model=Sequential()\n",
        "model.add(Conv2D(32,kernel_size=(3,3),activation='relu',input_shape=(256,256,3),padding='valid'))\n",
        "model.add(MaxPooling2D(pool_size=(2,2),padding='valid',strides=2))\n",
        "model.add(Conv2D(32,kernel_size=(3,3),activation='relu',padding='valid'))\n",
        "model.add(MaxPooling2D(pool_size=(2,2),padding='valid',strides=2))\n",
        "model.add(Conv2D(32,kernel_size=(3,3),activation='relu',padding='valid'))\n",
        "model.add(MaxPooling2D(pool_size=(2,2),padding='valid',strides=2))\n",
        "model.add(Conv2D(32,kernel_size=(3,3),activation='relu',padding='valid'))\n",
        "model.add(MaxPooling2D(pool_size=(2,2),padding='valid',strides=2))\n",
        "\n",
        "model.add(Flatten())\n",
        "\n",
        "model.add(Dense(128,activation='relu'))\n",
        "model.add(Dense(64,activation='relu'))\n",
        "model.add(Dense(1,activation='sigmoid'))"
      ],
      "metadata": {
        "id": "5_Rtd3hqu6Fc"
      },
      "execution_count": 9,
      "outputs": []
    },
    {
      "cell_type": "code",
      "source": [
        "model.summary()"
      ],
      "metadata": {
        "colab": {
          "base_uri": "https://localhost:8080/"
        },
        "id": "iz7sUPkZwzU3",
        "outputId": "46c2b42a-8077-48bb-cae6-9d4e96fdc484"
      },
      "execution_count": 10,
      "outputs": [
        {
          "output_type": "stream",
          "name": "stdout",
          "text": [
            "Model: \"sequential\"\n",
            "_________________________________________________________________\n",
            " Layer (type)                Output Shape              Param #   \n",
            "=================================================================\n",
            " conv2d (Conv2D)             (None, 254, 254, 32)      896       \n",
            "                                                                 \n",
            " max_pooling2d (MaxPooling2  (None, 127, 127, 32)      0         \n",
            " D)                                                              \n",
            "                                                                 \n",
            " conv2d_1 (Conv2D)           (None, 125, 125, 32)      9248      \n",
            "                                                                 \n",
            " max_pooling2d_1 (MaxPoolin  (None, 62, 62, 32)        0         \n",
            " g2D)                                                            \n",
            "                                                                 \n",
            " conv2d_2 (Conv2D)           (None, 60, 60, 32)        9248      \n",
            "                                                                 \n",
            " max_pooling2d_2 (MaxPoolin  (None, 30, 30, 32)        0         \n",
            " g2D)                                                            \n",
            "                                                                 \n",
            " conv2d_3 (Conv2D)           (None, 28, 28, 32)        9248      \n",
            "                                                                 \n",
            " max_pooling2d_3 (MaxPoolin  (None, 14, 14, 32)        0         \n",
            " g2D)                                                            \n",
            "                                                                 \n",
            " flatten (Flatten)           (None, 6272)              0         \n",
            "                                                                 \n",
            " dense (Dense)               (None, 128)               802944    \n",
            "                                                                 \n",
            " dense_1 (Dense)             (None, 64)                8256      \n",
            "                                                                 \n",
            " dense_2 (Dense)             (None, 1)                 65        \n",
            "                                                                 \n",
            "=================================================================\n",
            "Total params: 839905 (3.20 MB)\n",
            "Trainable params: 839905 (3.20 MB)\n",
            "Non-trainable params: 0 (0.00 Byte)\n",
            "_________________________________________________________________\n"
          ]
        }
      ]
    },
    {
      "cell_type": "code",
      "source": [
        "model.compile(optimizer='adam',loss='binary_crossentropy',metrics=['accuracy'])\n",
        "history=model.fit(train_ds,epochs=10,validation_data=validation_ds)"
      ],
      "metadata": {
        "colab": {
          "base_uri": "https://localhost:8080/"
        },
        "id": "TXmCyqLyw5Pw",
        "outputId": "9fad157e-b5dc-4ed2-fab4-578ffa51f495"
      },
      "execution_count": 11,
      "outputs": [
        {
          "output_type": "stream",
          "name": "stdout",
          "text": [
            "Epoch 1/10\n",
            "625/625 [==============================] - 57s 77ms/step - loss: 0.8862 - accuracy: 0.5745 - val_loss: 0.6623 - val_accuracy: 0.6134\n",
            "Epoch 2/10\n",
            "625/625 [==============================] - 47s 74ms/step - loss: 0.6318 - accuracy: 0.6443 - val_loss: 0.6504 - val_accuracy: 0.6538\n",
            "Epoch 3/10\n",
            "625/625 [==============================] - 46s 73ms/step - loss: 0.5773 - accuracy: 0.6957 - val_loss: 0.6531 - val_accuracy: 0.6682\n",
            "Epoch 4/10\n",
            "625/625 [==============================] - 46s 74ms/step - loss: 0.4873 - accuracy: 0.7589 - val_loss: 0.7137 - val_accuracy: 0.6756\n",
            "Epoch 5/10\n",
            "625/625 [==============================] - 46s 73ms/step - loss: 0.4029 - accuracy: 0.8154 - val_loss: 0.7758 - val_accuracy: 0.6946\n",
            "Epoch 6/10\n",
            "625/625 [==============================] - 48s 76ms/step - loss: 0.3351 - accuracy: 0.8544 - val_loss: 0.9993 - val_accuracy: 0.6684\n",
            "Epoch 7/10\n",
            "625/625 [==============================] - 49s 77ms/step - loss: 0.2810 - accuracy: 0.8802 - val_loss: 1.0526 - val_accuracy: 0.6614\n",
            "Epoch 8/10\n",
            "625/625 [==============================] - 48s 76ms/step - loss: 0.2297 - accuracy: 0.9093 - val_loss: 1.1091 - val_accuracy: 0.6654\n",
            "Epoch 9/10\n",
            "625/625 [==============================] - 49s 78ms/step - loss: 0.1952 - accuracy: 0.9247 - val_loss: 1.4785 - val_accuracy: 0.6624\n",
            "Epoch 10/10\n",
            "625/625 [==============================] - 51s 81ms/step - loss: 0.1644 - accuracy: 0.9388 - val_loss: 1.6152 - val_accuracy: 0.6560\n"
          ]
        }
      ]
    },
    {
      "cell_type": "code",
      "source": [
        "model1=Sequential()\n",
        "model1.add(Conv2D(32,kernel_size=(3,3),activation='relu',input_shape=(256,256,3),padding='same'))\n",
        "model1.add(MaxPooling2D(pool_size=(2,2),padding='same',strides=2))\n",
        "model1.add(Conv2D(32,kernel_size=(3,3),activation='relu',padding='same'))\n",
        "model1.add(MaxPooling2D(pool_size=(2,2),padding='same',strides=2))\n",
        "model1.add(Conv2D(32,kernel_size=(3,3),activation='relu',padding='same'))\n",
        "model1.add(MaxPooling2D(pool_size=(2,2),padding='same',strides=2))\n",
        "model1.add(Conv2D(32,kernel_size=(3,3),activation='relu',padding='same'))\n",
        "model1.add(MaxPooling2D(pool_size=(2,2),padding='same',strides=2))\n",
        "\n",
        "model1.add(Flatten())\n",
        "\n",
        "model1.add(Dense(128,activation='relu'))\n",
        "model1.add(Dense(64,activation='relu'))\n",
        "model1.add(Dense(1,activation='sigmoid'))"
      ],
      "metadata": {
        "id": "E9bYthh_1Qru"
      },
      "execution_count": 15,
      "outputs": []
    },
    {
      "cell_type": "code",
      "source": [
        "model1.summary()"
      ],
      "metadata": {
        "id": "0_QNrgT9Dxux",
        "outputId": "8b7f0f0d-8cbe-4e82-f256-f6a1b05b6b19",
        "colab": {
          "base_uri": "https://localhost:8080/"
        }
      },
      "execution_count": 17,
      "outputs": [
        {
          "output_type": "stream",
          "name": "stdout",
          "text": [
            "Model: \"sequential_2\"\n",
            "_________________________________________________________________\n",
            " Layer (type)                Output Shape              Param #   \n",
            "=================================================================\n",
            " conv2d_8 (Conv2D)           (None, 256, 256, 32)      896       \n",
            "                                                                 \n",
            " max_pooling2d_8 (MaxPoolin  (None, 128, 128, 32)      0         \n",
            " g2D)                                                            \n",
            "                                                                 \n",
            " conv2d_9 (Conv2D)           (None, 128, 128, 32)      9248      \n",
            "                                                                 \n",
            " max_pooling2d_9 (MaxPoolin  (None, 64, 64, 32)        0         \n",
            " g2D)                                                            \n",
            "                                                                 \n",
            " conv2d_10 (Conv2D)          (None, 64, 64, 32)        9248      \n",
            "                                                                 \n",
            " max_pooling2d_10 (MaxPooli  (None, 32, 32, 32)        0         \n",
            " ng2D)                                                           \n",
            "                                                                 \n",
            " conv2d_11 (Conv2D)          (None, 32, 32, 32)        9248      \n",
            "                                                                 \n",
            " max_pooling2d_11 (MaxPooli  (None, 16, 16, 32)        0         \n",
            " ng2D)                                                           \n",
            "                                                                 \n",
            " flatten_2 (Flatten)         (None, 8192)              0         \n",
            "                                                                 \n",
            " dense_6 (Dense)             (None, 128)               1048704   \n",
            "                                                                 \n",
            " dense_7 (Dense)             (None, 64)                8256      \n",
            "                                                                 \n",
            " dense_8 (Dense)             (None, 1)                 65        \n",
            "                                                                 \n",
            "=================================================================\n",
            "Total params: 1085665 (4.14 MB)\n",
            "Trainable params: 1085665 (4.14 MB)\n",
            "Non-trainable params: 0 (0.00 Byte)\n",
            "_________________________________________________________________\n"
          ]
        }
      ]
    },
    {
      "cell_type": "code",
      "source": [
        "model.compile(optimizer='adam',loss='binary_crossentropy',metrics=['accuracy'])\n",
        "history=model.fit(train_ds,epochs=10,validation_data=validation_ds)"
      ],
      "metadata": {
        "colab": {
          "base_uri": "https://localhost:8080/"
        },
        "id": "rrmNQ3j91Qte",
        "outputId": "f5028965-b182-4368-c86b-7a484505aa7a"
      },
      "execution_count": 18,
      "outputs": [
        {
          "output_type": "stream",
          "name": "stdout",
          "text": [
            "Epoch 1/10\n",
            "625/625 [==============================] - 51s 78ms/step - loss: 0.6011 - accuracy: 0.6781 - val_loss: 0.5358 - val_accuracy: 0.7418\n",
            "Epoch 2/10\n",
            "625/625 [==============================] - 50s 80ms/step - loss: 0.5166 - accuracy: 0.7487 - val_loss: 0.4986 - val_accuracy: 0.7682\n",
            "Epoch 3/10\n",
            "625/625 [==============================] - 48s 76ms/step - loss: 0.4269 - accuracy: 0.8031 - val_loss: 0.5590 - val_accuracy: 0.7648\n",
            "Epoch 4/10\n",
            "625/625 [==============================] - 46s 73ms/step - loss: 0.3404 - accuracy: 0.8515 - val_loss: 0.5985 - val_accuracy: 0.7640\n",
            "Epoch 5/10\n",
            "625/625 [==============================] - 47s 75ms/step - loss: 0.2539 - accuracy: 0.8925 - val_loss: 0.6415 - val_accuracy: 0.7850\n",
            "Epoch 6/10\n",
            "625/625 [==============================] - 47s 75ms/step - loss: 0.1809 - accuracy: 0.9258 - val_loss: 0.8265 - val_accuracy: 0.7884\n",
            "Epoch 7/10\n",
            "625/625 [==============================] - 49s 77ms/step - loss: 0.1584 - accuracy: 0.9417 - val_loss: 0.7197 - val_accuracy: 0.7956\n",
            "Epoch 8/10\n",
            "625/625 [==============================] - 49s 78ms/step - loss: 0.1165 - accuracy: 0.9574 - val_loss: 1.0502 - val_accuracy: 0.7780\n",
            "Epoch 9/10\n",
            "625/625 [==============================] - 49s 78ms/step - loss: 0.0973 - accuracy: 0.9647 - val_loss: 1.1722 - val_accuracy: 0.7842\n",
            "Epoch 10/10\n",
            "625/625 [==============================] - 46s 73ms/step - loss: 0.0810 - accuracy: 0.9719 - val_loss: 0.9230 - val_accuracy: 0.7846\n"
          ]
        }
      ]
    }
  ],
  "metadata": {
    "kernelspec": {
      "display_name": "Python 3",
      "name": "python3"
    },
    "language_info": {
      "codemirror_mode": {
        "name": "ipython",
        "version": 3
      },
      "file_extension": ".py",
      "mimetype": "text/x-python",
      "name": "python",
      "nbconvert_exporter": "python",
      "pygments_lexer": "ipython3",
      "version": "3.8.18"
    },
    "colab": {
      "provenance": [],
      "gpuType": "T4",
      "include_colab_link": true
    },
    "accelerator": "GPU"
  },
  "nbformat": 4,
  "nbformat_minor": 0
}