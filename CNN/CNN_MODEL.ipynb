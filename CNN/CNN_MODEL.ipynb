{
 "cells": [
  {
   "cell_type": "code",
   "execution_count": 1,
   "metadata": {},
   "outputs": [],
   "source": [
    "import numpy as np"
   ]
  },
  {
   "cell_type": "code",
   "execution_count": 5,
   "metadata": {},
   "outputs": [
    {
     "ename": "SyntaxError",
     "evalue": "invalid syntax (1181429826.py, line 1)",
     "output_type": "error",
     "traceback": [
      "\u001b[1;36m  Cell \u001b[1;32mIn[5], line 1\u001b[1;36m\u001b[0m\n\u001b[1;33m    mkdir -p ~/.kaggle\u001b[0m\n\u001b[1;37m             ^\u001b[0m\n\u001b[1;31mSyntaxError\u001b[0m\u001b[1;31m:\u001b[0m invalid syntax\n"
     ]
    }
   ],
   "source": [
    "mkdir -p ~/.kaggle\n",
    "mv kaggle.json ~/.kaggle/kaggle.json\n",
    "chmod 600 ~/.kaggle/kaggle.json"
   ]
  },
  {
   "cell_type": "code",
   "execution_count": 6,
   "metadata": {},
   "outputs": [],
   "source": [
    "import os\n",
    "\n",
    "# Specify the directory path\n",
    "directory_path = os.path.expanduser('~/.kaggle')\n",
    "\n",
    "# Create the directory if it doesn't exist\n",
    "os.makedirs(directory_path, exist_ok=True)\n"
   ]
  },
  {
   "cell_type": "code",
   "execution_count": 9,
   "metadata": {},
   "outputs": [
    {
     "name": "stderr",
     "output_type": "stream",
     "text": [
      "'kaggle' is not recognized as an internal or external command,\n",
      "operable program or batch file.\n"
     ]
    }
   ],
   "source": [
    "! kaggle datasets download -d salader/dogs-vs-cats"
   ]
  },
  {
   "cell_type": "code",
   "execution_count": 10,
   "metadata": {},
   "outputs": [
    {
     "name": "stdout",
     "output_type": "stream",
     "text": [
      "Collecting kaggle\n",
      "  Downloading kaggle-1.6.5.tar.gz (84 kB)\n",
      "     ---------------------------------------- 0.0/84.5 kB ? eta -:--:--\n",
      "     ---- ----------------------------------- 10.2/84.5 kB ? eta -:--:--\n",
      "     ------------- ------------------------ 30.7/84.5 kB 330.3 kB/s eta 0:00:01\n",
      "     ------------------ ------------------- 41.0/84.5 kB 326.8 kB/s eta 0:00:01\n",
      "     -------------------------------------- 84.5/84.5 kB 526.9 kB/s eta 0:00:00\n",
      "  Preparing metadata (setup.py): started\n",
      "  Preparing metadata (setup.py): finished with status 'done'\n",
      "Requirement already satisfied: six>=1.10 in c:\\users\\sds\\.conda\\envs\\test2\\lib\\site-packages (from kaggle) (1.16.0)\n",
      "Requirement already satisfied: certifi in c:\\users\\sds\\.conda\\envs\\test2\\lib\\site-packages (from kaggle) (2023.11.17)\n",
      "Requirement already satisfied: python-dateutil in c:\\users\\sds\\.conda\\envs\\test2\\lib\\site-packages (from kaggle) (2.8.2)\n",
      "Requirement already satisfied: requests in c:\\users\\sds\\.conda\\envs\\test2\\lib\\site-packages (from kaggle) (2.31.0)\n",
      "Collecting tqdm (from kaggle)\n",
      "  Using cached tqdm-4.66.1-py3-none-any.whl.metadata (57 kB)\n",
      "Collecting python-slugify (from kaggle)\n",
      "  Downloading python_slugify-8.0.4-py2.py3-none-any.whl.metadata (8.5 kB)\n",
      "Requirement already satisfied: urllib3 in c:\\users\\sds\\.conda\\envs\\test2\\lib\\site-packages (from kaggle) (2.1.0)\n",
      "Collecting bleach (from kaggle)\n",
      "  Downloading bleach-6.1.0-py3-none-any.whl.metadata (30 kB)\n",
      "Collecting webencodings (from bleach->kaggle)\n",
      "  Downloading webencodings-0.5.1-py2.py3-none-any.whl (11 kB)\n",
      "Collecting text-unidecode>=1.3 (from python-slugify->kaggle)\n",
      "  Downloading text_unidecode-1.3-py2.py3-none-any.whl (78 kB)\n",
      "     ---------------------------------------- 0.0/78.2 kB ? eta -:--:--\n",
      "     ------------------------------- -------- 61.4/78.2 kB 1.6 MB/s eta 0:00:01\n",
      "     ---------------------------------------- 78.2/78.2 kB 1.1 MB/s eta 0:00:00\n",
      "Requirement already satisfied: charset-normalizer<4,>=2 in c:\\users\\sds\\.conda\\envs\\test2\\lib\\site-packages (from requests->kaggle) (3.3.2)\n",
      "Requirement already satisfied: idna<4,>=2.5 in c:\\users\\sds\\.conda\\envs\\test2\\lib\\site-packages (from requests->kaggle) (3.6)\n",
      "Requirement already satisfied: colorama in c:\\users\\sds\\appdata\\roaming\\python\\python38\\site-packages (from tqdm->kaggle) (0.4.6)\n",
      "Downloading bleach-6.1.0-py3-none-any.whl (162 kB)\n",
      "   ---------------------------------------- 0.0/162.8 kB ? eta -:--:--\n",
      "   -------------------- ------------------- 81.9/162.8 kB 1.5 MB/s eta 0:00:01\n",
      "   ---------------------------------------- 162.8/162.8 kB 1.6 MB/s eta 0:00:00\n",
      "Downloading python_slugify-8.0.4-py2.py3-none-any.whl (10 kB)\n",
      "Using cached tqdm-4.66.1-py3-none-any.whl (78 kB)\n",
      "Building wheels for collected packages: kaggle\n",
      "  Building wheel for kaggle (setup.py): started\n",
      "  Building wheel for kaggle (setup.py): finished with status 'done'\n",
      "  Created wheel for kaggle: filename=kaggle-1.6.5-py3-none-any.whl size=111944 sha256=75e727cf60b603ffe3566f25feffae6075dcedfe210af434e126a7ef1ca9ae5b\n",
      "  Stored in directory: c:\\users\\sds\\appdata\\local\\pip\\cache\\wheels\\6d\\7d\\34\\8e5b9066a4efd1e4458a647281a380793c48025ac8e8f7a18e\n",
      "Successfully built kaggle\n",
      "Installing collected packages: webencodings, text-unidecode, tqdm, python-slugify, bleach, kaggle\n",
      "Successfully installed bleach-6.1.0 kaggle-1.6.5 python-slugify-8.0.4 text-unidecode-1.3 tqdm-4.66.1 webencodings-0.5.1\n",
      "Note: you may need to restart the kernel to use updated packages.\n"
     ]
    }
   ],
   "source": [
    "pip install kaggle\n"
   ]
  },
  {
   "cell_type": "code",
   "execution_count": 17,
   "metadata": {},
   "outputs": [
    {
     "name": "stderr",
     "output_type": "stream",
     "text": [
      "WARNING: Skipping kaggle-cli as it is not installed.\n"
     ]
    },
    {
     "name": "stdout",
     "output_type": "stream",
     "text": [
      "Collecting kaggle-cli\n",
      "  Downloading kaggle-cli-0.12.13.tar.gz (6.5 kB)\n",
      "  Preparing metadata (setup.py): started\n",
      "  Preparing metadata (setup.py): finished with status 'done'\n",
      "Collecting cliff<2.9,>=2.8.0 (from kaggle-cli)\n",
      "  Downloading cliff-2.8.3-py2.py3-none-any.whl (74 kB)\n",
      "     ---------------------------------------- 0.0/74.4 kB ? eta -:--:--\n",
      "     ----- ---------------------------------- 10.2/74.4 kB ? eta -:--:--\n",
      "     --------------- ---------------------- 30.7/74.4 kB 660.6 kB/s eta 0:00:01\n",
      "     -------------------------------------- 74.4/74.4 kB 588.5 kB/s eta 0:00:00\n",
      "Collecting MechanicalSoup<0.9,>=0.7.0 (from kaggle-cli)\n",
      "  Downloading MechanicalSoup-0.8.0-py2.py3-none-any.whl (8.9 kB)\n",
      "Collecting lxml<4.1,>=4.0.0 (from kaggle-cli)\n",
      "  Downloading lxml-4.0.0.tar.gz (4.2 MB)\n",
      "     ---------------------------------------- 0.0/4.2 MB ? eta -:--:--\n",
      "     - -------------------------------------- 0.1/4.2 MB 2.2 MB/s eta 0:00:02\n",
      "     -- ------------------------------------- 0.2/4.2 MB 2.0 MB/s eta 0:00:03\n",
      "     --- ------------------------------------ 0.4/4.2 MB 2.0 MB/s eta 0:00:02\n",
      "     ---- ----------------------------------- 0.5/4.2 MB 1.9 MB/s eta 0:00:02\n",
      "     ----- ---------------------------------- 0.6/4.2 MB 2.0 MB/s eta 0:00:02\n",
      "     ------ --------------------------------- 0.7/4.2 MB 2.0 MB/s eta 0:00:02\n",
      "     ------- -------------------------------- 0.8/4.2 MB 1.9 MB/s eta 0:00:02\n",
      "     -------- ------------------------------- 0.9/4.2 MB 1.9 MB/s eta 0:00:02\n",
      "     --------- ------------------------------ 1.0/4.2 MB 1.9 MB/s eta 0:00:02\n",
      "     ---------- ----------------------------- 1.1/4.2 MB 1.9 MB/s eta 0:00:02\n",
      "     ----------- ---------------------------- 1.2/4.2 MB 1.9 MB/s eta 0:00:02\n",
      "     ------------- -------------------------- 1.4/4.2 MB 2.0 MB/s eta 0:00:02\n",
      "     -------------- ------------------------- 1.5/4.2 MB 2.0 MB/s eta 0:00:02\n",
      "     --------------- ------------------------ 1.6/4.2 MB 2.0 MB/s eta 0:00:02\n",
      "     ---------------- ----------------------- 1.7/4.2 MB 2.0 MB/s eta 0:00:02\n",
      "     ----------------- ---------------------- 1.8/4.2 MB 2.0 MB/s eta 0:00:02\n",
      "     ------------------ --------------------- 1.9/4.2 MB 2.0 MB/s eta 0:00:02\n",
      "     ------------------- -------------------- 2.0/4.2 MB 1.9 MB/s eta 0:00:02\n",
      "     ------------------- -------------------- 2.1/4.2 MB 1.9 MB/s eta 0:00:02\n",
      "     -------------------- ------------------- 2.1/4.2 MB 1.9 MB/s eta 0:00:02\n",
      "     --------------------- ------------------ 2.2/4.2 MB 1.9 MB/s eta 0:00:02\n",
      "     ---------------------- ----------------- 2.3/4.2 MB 1.9 MB/s eta 0:00:02\n",
      "     ---------------------- ----------------- 2.3/4.2 MB 1.9 MB/s eta 0:00:02\n",
      "     ----------------------- ---------------- 2.5/4.2 MB 1.9 MB/s eta 0:00:01\n",
      "     ------------------------ --------------- 2.6/4.2 MB 1.9 MB/s eta 0:00:01\n",
      "     ------------------------- -------------- 2.7/4.2 MB 1.9 MB/s eta 0:00:01\n",
      "     ------------------------- -------------- 2.7/4.2 MB 1.9 MB/s eta 0:00:01\n",
      "     --------------------------- ------------ 2.8/4.2 MB 1.9 MB/s eta 0:00:01\n",
      "     --------------------------- ------------ 2.9/4.2 MB 1.9 MB/s eta 0:00:01\n",
      "     --------------------------- ------------ 2.9/4.2 MB 1.8 MB/s eta 0:00:01\n",
      "     ---------------------------- ----------- 3.0/4.2 MB 1.8 MB/s eta 0:00:01\n",
      "     ----------------------------- ---------- 3.1/4.2 MB 1.8 MB/s eta 0:00:01\n",
      "     ------------------------------ --------- 3.2/4.2 MB 1.8 MB/s eta 0:00:01\n",
      "     ------------------------------- -------- 3.3/4.2 MB 1.8 MB/s eta 0:00:01\n",
      "     -------------------------------- ------- 3.5/4.2 MB 1.9 MB/s eta 0:00:01\n",
      "     --------------------------------- ------ 3.6/4.2 MB 1.9 MB/s eta 0:00:01\n",
      "     ----------------------------------- ---- 3.7/4.2 MB 1.9 MB/s eta 0:00:01\n",
      "     ------------------------------------ --- 3.8/4.2 MB 1.9 MB/s eta 0:00:01\n",
      "     ------------------------------------- -- 3.9/4.2 MB 1.9 MB/s eta 0:00:01\n",
      "     -------------------------------------- - 4.0/4.2 MB 1.9 MB/s eta 0:00:01\n",
      "     ---------------------------------------- 4.2/4.2 MB 2.0 MB/s eta 0:00:00\n",
      "  Preparing metadata (setup.py): started\n",
      "  Preparing metadata (setup.py): finished with status 'done'\n",
      "Collecting cssselect<1.1,>=1.0.1 (from kaggle-cli)\n",
      "  Downloading cssselect-1.0.3-py2.py3-none-any.whl (16 kB)\n",
      "Collecting configparser (from kaggle-cli)\n",
      "  Downloading configparser-6.0.0-py3-none-any.whl.metadata (11 kB)\n",
      "Collecting progressbar2<3.35,>=3.34.3 (from kaggle-cli)\n",
      "  Downloading progressbar2-3.34.3-py2.py3-none-any.whl (25 kB)\n",
      "Collecting beautifulsoup4<4.7,>=4.6.0 (from kaggle-cli)\n",
      "  Downloading beautifulsoup4-4.6.3-py3-none-any.whl (90 kB)\n",
      "     ---------------------------------------- 0.0/90.4 kB ? eta -:--:--\n",
      "     ---------------------------------------- 90.4/90.4 kB 2.6 MB/s eta 0:00:00\n",
      "Collecting pbr!=2.1.0,>=2.0.0 (from cliff<2.9,>=2.8.0->kaggle-cli)\n",
      "  Downloading pbr-6.0.0-py2.py3-none-any.whl.metadata (1.3 kB)\n",
      "Collecting PrettyTable<0.8,>=0.7.1 (from cliff<2.9,>=2.8.0->kaggle-cli)\n",
      "  Downloading prettytable-0.7.2.zip (28 kB)\n",
      "  Preparing metadata (setup.py): started\n",
      "  Preparing metadata (setup.py): finished with status 'done'\n",
      "Requirement already satisfied: pyparsing>=2.1.0 in c:\\users\\sds\\.conda\\envs\\test2\\lib\\site-packages (from cliff<2.9,>=2.8.0->kaggle-cli) (3.1.1)\n",
      "Requirement already satisfied: six>=1.9.0 in c:\\users\\sds\\.conda\\envs\\test2\\lib\\site-packages (from cliff<2.9,>=2.8.0->kaggle-cli) (1.16.0)\n",
      "Collecting stevedore>=1.20.0 (from cliff<2.9,>=2.8.0->kaggle-cli)\n",
      "  Downloading stevedore-5.1.0-py3-none-any.whl.metadata (2.2 kB)\n",
      "Collecting PyYAML>=3.10.0 (from cliff<2.9,>=2.8.0->kaggle-cli)\n",
      "  Downloading PyYAML-6.0.1-cp38-cp38-win_amd64.whl.metadata (2.1 kB)\n",
      "Collecting cmd2>=0.6.7 (from cliff<2.9,>=2.8.0->kaggle-cli)\n",
      "  Downloading cmd2-2.4.3-py3-none-any.whl (147 kB)\n",
      "     ---------------------------------------- 0.0/147.2 kB ? eta -:--:--\n",
      "     ---------------------------------------- 0.0/147.2 kB ? eta -:--:--\n",
      "     --------------------------------- ------ 122.9/147.2 kB ? eta -:--:--\n",
      "     -------------------------------------- 147.2/147.2 kB 8.6 MB/s eta 0:00:00\n",
      "Requirement already satisfied: requests>=2.0 in c:\\users\\sds\\.conda\\envs\\test2\\lib\\site-packages (from MechanicalSoup<0.9,>=0.7.0->kaggle-cli) (2.31.0)\n",
      "Requirement already satisfied: python-utils>=2.1.0 in c:\\users\\sds\\.conda\\envs\\test2\\lib\\site-packages (from progressbar2<3.35,>=3.34.3->kaggle-cli) (3.8.2)\n",
      "Requirement already satisfied: attrs>=16.3.0 in c:\\users\\sds\\.conda\\envs\\test2\\lib\\site-packages (from cmd2>=0.6.7->cliff<2.9,>=2.8.0->kaggle-cli) (23.2.0)\n",
      "Requirement already satisfied: pyperclip>=1.6 in c:\\users\\sds\\appdata\\roaming\\python\\python38\\site-packages (from cmd2>=0.6.7->cliff<2.9,>=2.8.0->kaggle-cli) (1.8.2)\n",
      "Requirement already satisfied: wcwidth>=0.1.7 in c:\\users\\sds\\appdata\\roaming\\python\\python38\\site-packages (from cmd2>=0.6.7->cliff<2.9,>=2.8.0->kaggle-cli) (0.2.13)\n",
      "Collecting pyreadline3 (from cmd2>=0.6.7->cliff<2.9,>=2.8.0->kaggle-cli)\n",
      "  Downloading pyreadline3-3.4.1-py3-none-any.whl (95 kB)\n",
      "     ---------------------------------------- 0.0/95.2 kB ? eta -:--:--\n",
      "     ---------------------------------------- 95.2/95.2 kB 2.7 MB/s eta 0:00:00\n",
      "Requirement already satisfied: typing-extensions>3.10.0.2 in c:\\users\\sds\\.conda\\envs\\test2\\lib\\site-packages (from python-utils>=2.1.0->progressbar2<3.35,>=3.34.3->kaggle-cli) (4.5.0)\n",
      "Requirement already satisfied: charset-normalizer<4,>=2 in c:\\users\\sds\\.conda\\envs\\test2\\lib\\site-packages (from requests>=2.0->MechanicalSoup<0.9,>=0.7.0->kaggle-cli) (3.3.2)\n",
      "Requirement already satisfied: idna<4,>=2.5 in c:\\users\\sds\\.conda\\envs\\test2\\lib\\site-packages (from requests>=2.0->MechanicalSoup<0.9,>=0.7.0->kaggle-cli) (3.6)\n",
      "Requirement already satisfied: urllib3<3,>=1.21.1 in c:\\users\\sds\\.conda\\envs\\test2\\lib\\site-packages (from requests>=2.0->MechanicalSoup<0.9,>=0.7.0->kaggle-cli) (2.1.0)\n",
      "Requirement already satisfied: certifi>=2017.4.17 in c:\\users\\sds\\.conda\\envs\\test2\\lib\\site-packages (from requests>=2.0->MechanicalSoup<0.9,>=0.7.0->kaggle-cli) (2023.11.17)\n",
      "Downloading configparser-6.0.0-py3-none-any.whl (19 kB)\n",
      "Downloading pbr-6.0.0-py2.py3-none-any.whl (107 kB)\n",
      "   ---------------------------------------- 0.0/107.5 kB ? eta -:--:--\n",
      "   ---------------------- ----------------- 61.4/107.5 kB 1.6 MB/s eta 0:00:01\n",
      "   ---------------------------------------- 107.5/107.5 kB 1.2 MB/s eta 0:00:00\n",
      "Downloading PyYAML-6.0.1-cp38-cp38-win_amd64.whl (157 kB)\n",
      "   ---------------------------------------- 0.0/157.3 kB ? eta -:--:--\n",
      "   -------------------- ------------------- 81.9/157.3 kB 1.5 MB/s eta 0:00:01\n",
      "   ------------------------------- -------- 122.9/157.3 kB 1.4 MB/s eta 0:00:01\n",
      "   ---------------------------------------- 157.3/157.3 kB 1.3 MB/s eta 0:00:00\n",
      "Downloading stevedore-5.1.0-py3-none-any.whl (49 kB)\n",
      "   ---------------------------------------- 0.0/49.6 kB ? eta -:--:--\n",
      "   ---------------------------------------- 49.6/49.6 kB ? eta 0:00:00\n",
      "Building wheels for collected packages: kaggle-cli, lxml, PrettyTable\n",
      "  Building wheel for kaggle-cli (setup.py): started\n",
      "  Building wheel for kaggle-cli (setup.py): finished with status 'done'\n",
      "  Created wheel for kaggle-cli: filename=kaggle_cli-0.12.13-py3-none-any.whl size=9481 sha256=5ef28afffcc7cda14b52f300f0548b5179cc0c420214cc14a8fc9e862debbc28\n",
      "  Stored in directory: C:\\Users\\SDS\\AppData\\Local\\Temp\\pip-ephem-wheel-cache-u1ormypr\\wheels\\e0\\8c\\cb\\e46bee8185f2c855639465c16eee15582dc3f78484bfa998f1\n",
      "  Building wheel for lxml (setup.py): started\n",
      "  Building wheel for lxml (setup.py): finished with status 'error'\n",
      "  Running setup.py clean for lxml\n",
      "  Building wheel for PrettyTable (setup.py): started\n",
      "  Building wheel for PrettyTable (setup.py): finished with status 'done'\n",
      "  Created wheel for PrettyTable: filename=prettytable-0.7.2-py3-none-any.whl size=13705 sha256=03e489fa57403fbb297ef35ac9beba3e0bb53582ca7f0f7edc99aaa768e5ad3c\n",
      "  Stored in directory: C:\\Users\\SDS\\AppData\\Local\\Temp\\pip-ephem-wheel-cache-u1ormypr\\wheels\\48\\6d\\77\\9517cb933af254f51a446f1a5ec9c2be3e45f17384940bce68\n",
      "Successfully built kaggle-cli PrettyTable\n",
      "Failed to build lxml\n"
     ]
    },
    {
     "name": "stderr",
     "output_type": "stream",
     "text": [
      "  error: subprocess-exited-with-error\n",
      "  \n",
      "  × python setup.py bdist_wheel did not run successfully.\n",
      "  │ exit code: 1\n",
      "  ╰─> [79 lines of output]\n",
      "      Building lxml version 4.0.0.\n",
      "      C:\\Users\\SDS\\AppData\\Local\\Temp\\pip-install-y66vqw83\\lxml_a9bfc030fe414009a1f64e19cb8ca973\\setup.py:61: DeprecationWarning: pkg_resources is deprecated as an API. See https://setuptools.pypa.io/en/latest/pkg_resources.html\n",
      "        import pkg_resources\n",
      "      Building without Cython.\n",
      "      ERROR: b\"'xslt-config' is not recognized as an internal or external command,\\r\\noperable program or batch file.\\r\\n\"\n",
      "      ** make sure the development packages of libxml2 and libxslt are installed **\n",
      "      \n",
      "      Using build configuration of libxslt\n",
      "      running bdist_wheel\n",
      "      running build\n",
      "      running build_py\n",
      "      creating build\n",
      "      creating build\\lib.win-amd64-cpython-38\n",
      "      creating build\\lib.win-amd64-cpython-38\\lxml\n",
      "      copying src\\lxml\\builder.py -> build\\lib.win-amd64-cpython-38\\lxml\n",
      "      copying src\\lxml\\cssselect.py -> build\\lib.win-amd64-cpython-38\\lxml\n",
      "      copying src\\lxml\\doctestcompare.py -> build\\lib.win-amd64-cpython-38\\lxml\n",
      "      copying src\\lxml\\ElementInclude.py -> build\\lib.win-amd64-cpython-38\\lxml\n",
      "      copying src\\lxml\\pyclasslookup.py -> build\\lib.win-amd64-cpython-38\\lxml\n",
      "      copying src\\lxml\\sax.py -> build\\lib.win-amd64-cpython-38\\lxml\n",
      "      copying src\\lxml\\usedoctest.py -> build\\lib.win-amd64-cpython-38\\lxml\n",
      "      copying src\\lxml\\_elementpath.py -> build\\lib.win-amd64-cpython-38\\lxml\n",
      "      copying src\\lxml\\__init__.py -> build\\lib.win-amd64-cpython-38\\lxml\n",
      "      creating build\\lib.win-amd64-cpython-38\\lxml\\includes\n",
      "      copying src\\lxml\\includes\\__init__.py -> build\\lib.win-amd64-cpython-38\\lxml\\includes\n",
      "      creating build\\lib.win-amd64-cpython-38\\lxml\\html\n",
      "      copying src\\lxml\\html\\builder.py -> build\\lib.win-amd64-cpython-38\\lxml\\html\n",
      "      copying src\\lxml\\html\\clean.py -> build\\lib.win-amd64-cpython-38\\lxml\\html\n",
      "      copying src\\lxml\\html\\defs.py -> build\\lib.win-amd64-cpython-38\\lxml\\html\n",
      "      copying src\\lxml\\html\\diff.py -> build\\lib.win-amd64-cpython-38\\lxml\\html\n",
      "      copying src\\lxml\\html\\ElementSoup.py -> build\\lib.win-amd64-cpython-38\\lxml\\html\n",
      "      copying src\\lxml\\html\\formfill.py -> build\\lib.win-amd64-cpython-38\\lxml\\html\n",
      "      copying src\\lxml\\html\\html5parser.py -> build\\lib.win-amd64-cpython-38\\lxml\\html\n",
      "      copying src\\lxml\\html\\soupparser.py -> build\\lib.win-amd64-cpython-38\\lxml\\html\n",
      "      copying src\\lxml\\html\\usedoctest.py -> build\\lib.win-amd64-cpython-38\\lxml\\html\n",
      "      copying src\\lxml\\html\\_diffcommand.py -> build\\lib.win-amd64-cpython-38\\lxml\\html\n",
      "      copying src\\lxml\\html\\_html5builder.py -> build\\lib.win-amd64-cpython-38\\lxml\\html\n",
      "      copying src\\lxml\\html\\_setmixin.py -> build\\lib.win-amd64-cpython-38\\lxml\\html\n",
      "      copying src\\lxml\\html\\__init__.py -> build\\lib.win-amd64-cpython-38\\lxml\\html\n",
      "      creating build\\lib.win-amd64-cpython-38\\lxml\\isoschematron\n",
      "      copying src\\lxml\\isoschematron\\__init__.py -> build\\lib.win-amd64-cpython-38\\lxml\\isoschematron\n",
      "      copying src\\lxml\\etree.h -> build\\lib.win-amd64-cpython-38\\lxml\n",
      "      copying src\\lxml\\etree_api.h -> build\\lib.win-amd64-cpython-38\\lxml\n",
      "      copying src\\lxml\\lxml.etree.h -> build\\lib.win-amd64-cpython-38\\lxml\n",
      "      copying src\\lxml\\lxml.etree_api.h -> build\\lib.win-amd64-cpython-38\\lxml\n",
      "      copying src\\lxml\\includes\\c14n.pxd -> build\\lib.win-amd64-cpython-38\\lxml\\includes\n",
      "      copying src\\lxml\\includes\\config.pxd -> build\\lib.win-amd64-cpython-38\\lxml\\includes\n",
      "      copying src\\lxml\\includes\\dtdvalid.pxd -> build\\lib.win-amd64-cpython-38\\lxml\\includes\n",
      "      copying src\\lxml\\includes\\etreepublic.pxd -> build\\lib.win-amd64-cpython-38\\lxml\\includes\n",
      "      copying src\\lxml\\includes\\htmlparser.pxd -> build\\lib.win-amd64-cpython-38\\lxml\\includes\n",
      "      copying src\\lxml\\includes\\relaxng.pxd -> build\\lib.win-amd64-cpython-38\\lxml\\includes\n",
      "      copying src\\lxml\\includes\\schematron.pxd -> build\\lib.win-amd64-cpython-38\\lxml\\includes\n",
      "      copying src\\lxml\\includes\\tree.pxd -> build\\lib.win-amd64-cpython-38\\lxml\\includes\n",
      "      copying src\\lxml\\includes\\uri.pxd -> build\\lib.win-amd64-cpython-38\\lxml\\includes\n",
      "      copying src\\lxml\\includes\\xinclude.pxd -> build\\lib.win-amd64-cpython-38\\lxml\\includes\n",
      "      copying src\\lxml\\includes\\xmlerror.pxd -> build\\lib.win-amd64-cpython-38\\lxml\\includes\n",
      "      copying src\\lxml\\includes\\xmlparser.pxd -> build\\lib.win-amd64-cpython-38\\lxml\\includes\n",
      "      copying src\\lxml\\includes\\xmlschema.pxd -> build\\lib.win-amd64-cpython-38\\lxml\\includes\n",
      "      copying src\\lxml\\includes\\xpath.pxd -> build\\lib.win-amd64-cpython-38\\lxml\\includes\n",
      "      copying src\\lxml\\includes\\xslt.pxd -> build\\lib.win-amd64-cpython-38\\lxml\\includes\n",
      "      copying src\\lxml\\includes\\__init__.pxd -> build\\lib.win-amd64-cpython-38\\lxml\\includes\n",
      "      copying src\\lxml\\includes\\etree_defs.h -> build\\lib.win-amd64-cpython-38\\lxml\\includes\n",
      "      copying src\\lxml\\includes\\lxml-version.h -> build\\lib.win-amd64-cpython-38\\lxml\\includes\n",
      "      creating build\\lib.win-amd64-cpython-38\\lxml\\isoschematron\\resources\n",
      "      creating build\\lib.win-amd64-cpython-38\\lxml\\isoschematron\\resources\\rng\n",
      "      copying src\\lxml\\isoschematron\\resources\\rng\\iso-schematron.rng -> build\\lib.win-amd64-cpython-38\\lxml\\isoschematron\\resources\\rng\n",
      "      creating build\\lib.win-amd64-cpython-38\\lxml\\isoschematron\\resources\\xsl\n",
      "      copying src\\lxml\\isoschematron\\resources\\xsl\\RNG2Schtrn.xsl -> build\\lib.win-amd64-cpython-38\\lxml\\isoschematron\\resources\\xsl\n",
      "      copying src\\lxml\\isoschematron\\resources\\xsl\\XSD2Schtrn.xsl -> build\\lib.win-amd64-cpython-38\\lxml\\isoschematron\\resources\\xsl\n",
      "      creating build\\lib.win-amd64-cpython-38\\lxml\\isoschematron\\resources\\xsl\\iso-schematron-xslt1\n",
      "      copying src\\lxml\\isoschematron\\resources\\xsl\\iso-schematron-xslt1\\iso_abstract_expand.xsl -> build\\lib.win-amd64-cpython-38\\lxml\\isoschematron\\resources\\xsl\\iso-schematron-xslt1\n",
      "      copying src\\lxml\\isoschematron\\resources\\xsl\\iso-schematron-xslt1\\iso_dsdl_include.xsl -> build\\lib.win-amd64-cpython-38\\lxml\\isoschematron\\resources\\xsl\\iso-schematron-xslt1\n",
      "      copying src\\lxml\\isoschematron\\resources\\xsl\\iso-schematron-xslt1\\iso_schematron_message.xsl -> build\\lib.win-amd64-cpython-38\\lxml\\isoschematron\\resources\\xsl\\iso-schematron-xslt1\n",
      "      copying src\\lxml\\isoschematron\\resources\\xsl\\iso-schematron-xslt1\\iso_schematron_skeleton_for_xslt1.xsl -> build\\lib.win-amd64-cpython-38\\lxml\\isoschematron\\resources\\xsl\\iso-schematron-xslt1\n",
      "      copying src\\lxml\\isoschematron\\resources\\xsl\\iso-schematron-xslt1\\iso_svrl_for_xslt1.xsl -> build\\lib.win-amd64-cpython-38\\lxml\\isoschematron\\resources\\xsl\\iso-schematron-xslt1\n",
      "      copying src\\lxml\\isoschematron\\resources\\xsl\\iso-schematron-xslt1\\readme.txt -> build\\lib.win-amd64-cpython-38\\lxml\\isoschematron\\resources\\xsl\\iso-schematron-xslt1\n",
      "      running build_ext\n",
      "      building 'lxml.etree' extension\n",
      "      error: Microsoft Visual C++ 14.0 or greater is required. Get it with \"Microsoft C++ Build Tools\": https://visualstudio.microsoft.com/visual-cpp-build-tools/\n",
      "      [end of output]\n",
      "  \n",
      "  note: This error originates from a subprocess, and is likely not a problem with pip.\n",
      "  ERROR: Failed building wheel for lxml\n",
      "ERROR: Could not build wheels for lxml, which is required to install pyproject.toml-based projects\n"
     ]
    }
   ],
   "source": [
    "! pip uninstall kaggle-cli\n",
    "! pip install kaggle-cli --no-cache-dir\n",
    "\n"
   ]
  },
  {
   "cell_type": "code",
   "execution_count": 18,
   "metadata": {},
   "outputs": [
    {
     "name": "stderr",
     "output_type": "stream",
     "text": [
      "Traceback (most recent call last):\n",
      "  File \"c:\\Users\\SDS\\.conda\\envs\\test2\\lib\\runpy.py\", line 194, in _run_module_as_main\n",
      "    return _run_code(code, main_globals, None,\n",
      "  File \"c:\\Users\\SDS\\.conda\\envs\\test2\\lib\\runpy.py\", line 87, in _run_code\n",
      "    exec(code, run_globals)\n",
      "  File \"C:\\Users\\SDS\\.conda\\envs\\test2\\Scripts\\kaggle.exe\\__main__.py\", line 4, in <module>\n",
      "  File \"c:\\Users\\SDS\\.conda\\envs\\test2\\lib\\site-packages\\kaggle\\__init__.py\", line 23, in <module>\n",
      "    api.authenticate()\n",
      "  File \"c:\\Users\\SDS\\.conda\\envs\\test2\\lib\\site-packages\\kaggle\\api\\kaggle_api_extended.py\", line 403, in authenticate\n",
      "    raise IOError('Could not find {}. Make sure it\\'s located in'\n",
      "OSError: Could not find kaggle.json. Make sure it's located in C:\\Users\\SDS\\.kaggle. Or use the environment method.\n"
     ]
    }
   ],
   "source": [
    "! kaggle datasets download -d salader/dogs-vs-cats"
   ]
  },
  {
   "cell_type": "code",
   "execution_count": 19,
   "metadata": {},
   "outputs": [],
   "source": [
    "path=r'C:\\Users\\SDS\\Deeplearning\\Deeplearning\\CNN\\kaggle.json'"
   ]
  },
  {
   "cell_type": "code",
   "execution_count": 3,
   "metadata": {},
   "outputs": [
    {
     "name": "stdout",
     "output_type": "stream",
     "text": [
      "^C\n"
     ]
    }
   ],
   "source": [
    " \n"
   ]
  }
 ],
 "metadata": {
  "kernelspec": {
   "display_name": "test2",
   "language": "python",
   "name": "python3"
  },
  "language_info": {
   "codemirror_mode": {
    "name": "ipython",
    "version": 3
   },
   "file_extension": ".py",
   "mimetype": "text/x-python",
   "name": "python",
   "nbconvert_exporter": "python",
   "pygments_lexer": "ipython3",
   "version": "3.8.18"
  }
 },
 "nbformat": 4,
 "nbformat_minor": 2
}
